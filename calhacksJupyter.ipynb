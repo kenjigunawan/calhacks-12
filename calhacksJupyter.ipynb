{
  "cells": [
    {
      "cell_type": "code",
      "source": [
        "!git clone https://github.com/facebookresearch/ImageBind.git\n",
        "!git clone https://github.com/kenjigunawan/calhacks-12.git"
      ],
      "metadata": {
        "id": "I5hhnRPO-lbd",
        "colab": {
          "base_uri": "https://localhost:8080/"
        },
        "outputId": "e97fb27b-99c7-4508-e279-d1bcf7ffdecd"
      },
      "execution_count": null,
      "outputs": [
        {
          "output_type": "stream",
          "name": "stdout",
          "text": [
            "Cloning into 'ImageBind'...\n",
            "remote: Enumerating objects: 181, done.\u001b[K\n",
            "remote: Counting objects: 100% (114/114), done.\u001b[K\n",
            "remote: Compressing objects: 100% (64/64), done.\u001b[K\n",
            "remote: Total 181 (delta 81), reused 50 (delta 50), pack-reused 67 (from 3)\u001b[K\n",
            "Receiving objects: 100% (181/181), 2.65 MiB | 10.77 MiB/s, done.\n",
            "Resolving deltas: 100% (89/89), done.\n",
            "Cloning into 'calhacks-12'...\n",
            "remote: Enumerating objects: 15, done.\u001b[K\n",
            "remote: Counting objects: 100% (15/15), done.\u001b[K\n",
            "remote: Compressing objects: 100% (10/10), done.\u001b[K\n",
            "remote: Total 15 (delta 2), reused 11 (delta 1), pack-reused 0 (from 0)\u001b[K\n",
            "Receiving objects: 100% (15/15), 22.99 KiB | 22.99 MiB/s, done.\n",
            "Resolving deltas: 100% (2/2), done.\n"
          ]
        }
      ]
    },
    {
      "cell_type": "code",
      "source": [],
      "metadata": {
        "id": "-85JJLuRUWGW"
      },
      "execution_count": null,
      "outputs": []
    },
    {
      "cell_type": "markdown",
      "source": [
        "## Install Dependencies"
      ],
      "metadata": {
        "id": "VtedRgGPXEEw"
      }
    },
    {
      "cell_type": "code",
      "execution_count": null,
      "metadata": {
        "id": "zzYlYDFpuSkw",
        "colab": {
          "base_uri": "https://localhost:8080/"
        },
        "outputId": "1e28d75f-63b4-49bc-9537-468f12ad8515"
      },
      "outputs": [
        {
          "output_type": "stream",
          "name": "stdout",
          "text": [
            "/content/ImageBind\n",
            "Processing /content/ImageBind\n",
            "  Preparing metadata (setup.py) ... \u001b[?25l\u001b[?25hdone\n",
            "Collecting pytorchvideo@ git+https://github.com/facebookresearch/pytorchvideo.git@6cdc929315aab1b5674b6dcf73b16ec99147735f (from imagebind==0.1.0)\n",
            "  Cloning https://github.com/facebookresearch/pytorchvideo.git (to revision 6cdc929315aab1b5674b6dcf73b16ec99147735f) to /tmp/pip-install-vwdc9c8w/pytorchvideo_ed24730dab79449591cd47305276ce76\n",
            "  Running command git clone --filter=blob:none --quiet https://github.com/facebookresearch/pytorchvideo.git /tmp/pip-install-vwdc9c8w/pytorchvideo_ed24730dab79449591cd47305276ce76\n",
            "  Running command git rev-parse -q --verify 'sha^6cdc929315aab1b5674b6dcf73b16ec99147735f'\n",
            "  Running command git fetch -q https://github.com/facebookresearch/pytorchvideo.git 6cdc929315aab1b5674b6dcf73b16ec99147735f\n",
            "  Resolved https://github.com/facebookresearch/pytorchvideo.git to commit 6cdc929315aab1b5674b6dcf73b16ec99147735f\n",
            "  Preparing metadata (setup.py) ... \u001b[?25l\u001b[?25hdone\n",
            "Requirement already satisfied: torch>=2.0.0 in /usr/local/lib/python3.12/dist-packages (from imagebind==0.1.0) (2.8.0+cu126)\n",
            "Requirement already satisfied: torchvision in /usr/local/lib/python3.12/dist-packages (from imagebind==0.1.0) (0.23.0+cu126)\n",
            "Requirement already satisfied: torchaudio in /usr/local/lib/python3.12/dist-packages (from imagebind==0.1.0) (2.8.0+cu126)\n",
            "Requirement already satisfied: timm in /usr/local/lib/python3.12/dist-packages (from imagebind==0.1.0) (1.0.20)\n",
            "Collecting ftfy (from imagebind==0.1.0)\n",
            "  Downloading ftfy-6.3.1-py3-none-any.whl.metadata (7.3 kB)\n",
            "Requirement already satisfied: regex in /usr/local/lib/python3.12/dist-packages (from imagebind==0.1.0) (2024.11.6)\n",
            "Requirement already satisfied: einops in /usr/local/lib/python3.12/dist-packages (from imagebind==0.1.0) (0.8.1)\n",
            "Collecting iopath (from imagebind==0.1.0)\n",
            "  Downloading iopath-0.1.10.tar.gz (42 kB)\n",
            "\u001b[2K     \u001b[90m━━━━━━━━━━━━━━━━━━━━━━━━━━━━━━━━━━━━━━━━\u001b[0m \u001b[32m42.2/42.2 kB\u001b[0m \u001b[31m4.7 MB/s\u001b[0m eta \u001b[36m0:00:00\u001b[0m\n",
            "\u001b[?25h  Preparing metadata (setup.py) ... \u001b[?25l\u001b[?25hdone\n",
            "Requirement already satisfied: numpy>=1.19 in /usr/local/lib/python3.12/dist-packages (from imagebind==0.1.0) (2.0.2)\n",
            "Collecting types-regex (from imagebind==0.1.0)\n",
            "  Downloading types_regex-2025.10.23.20251023-py3-none-any.whl.metadata (1.7 kB)\n",
            "Requirement already satisfied: filelock in /usr/local/lib/python3.12/dist-packages (from torch>=2.0.0->imagebind==0.1.0) (3.20.0)\n",
            "Requirement already satisfied: typing-extensions>=4.10.0 in /usr/local/lib/python3.12/dist-packages (from torch>=2.0.0->imagebind==0.1.0) (4.15.0)\n",
            "Requirement already satisfied: setuptools in /usr/local/lib/python3.12/dist-packages (from torch>=2.0.0->imagebind==0.1.0) (75.2.0)\n",
            "Requirement already satisfied: sympy>=1.13.3 in /usr/local/lib/python3.12/dist-packages (from torch>=2.0.0->imagebind==0.1.0) (1.13.3)\n",
            "Requirement already satisfied: networkx in /usr/local/lib/python3.12/dist-packages (from torch>=2.0.0->imagebind==0.1.0) (3.5)\n",
            "Requirement already satisfied: jinja2 in /usr/local/lib/python3.12/dist-packages (from torch>=2.0.0->imagebind==0.1.0) (3.1.6)\n",
            "Requirement already satisfied: fsspec in /usr/local/lib/python3.12/dist-packages (from torch>=2.0.0->imagebind==0.1.0) (2025.3.0)\n",
            "Requirement already satisfied: nvidia-cuda-nvrtc-cu12==12.6.77 in /usr/local/lib/python3.12/dist-packages (from torch>=2.0.0->imagebind==0.1.0) (12.6.77)\n",
            "Requirement already satisfied: nvidia-cuda-runtime-cu12==12.6.77 in /usr/local/lib/python3.12/dist-packages (from torch>=2.0.0->imagebind==0.1.0) (12.6.77)\n",
            "Requirement already satisfied: nvidia-cuda-cupti-cu12==12.6.80 in /usr/local/lib/python3.12/dist-packages (from torch>=2.0.0->imagebind==0.1.0) (12.6.80)\n",
            "Requirement already satisfied: nvidia-cudnn-cu12==9.10.2.21 in /usr/local/lib/python3.12/dist-packages (from torch>=2.0.0->imagebind==0.1.0) (9.10.2.21)\n",
            "Requirement already satisfied: nvidia-cublas-cu12==12.6.4.1 in /usr/local/lib/python3.12/dist-packages (from torch>=2.0.0->imagebind==0.1.0) (12.6.4.1)\n",
            "Requirement already satisfied: nvidia-cufft-cu12==11.3.0.4 in /usr/local/lib/python3.12/dist-packages (from torch>=2.0.0->imagebind==0.1.0) (11.3.0.4)\n",
            "Requirement already satisfied: nvidia-curand-cu12==10.3.7.77 in /usr/local/lib/python3.12/dist-packages (from torch>=2.0.0->imagebind==0.1.0) (10.3.7.77)\n",
            "Requirement already satisfied: nvidia-cusolver-cu12==11.7.1.2 in /usr/local/lib/python3.12/dist-packages (from torch>=2.0.0->imagebind==0.1.0) (11.7.1.2)\n",
            "Requirement already satisfied: nvidia-cusparse-cu12==12.5.4.2 in /usr/local/lib/python3.12/dist-packages (from torch>=2.0.0->imagebind==0.1.0) (12.5.4.2)\n",
            "Requirement already satisfied: nvidia-cusparselt-cu12==0.7.1 in /usr/local/lib/python3.12/dist-packages (from torch>=2.0.0->imagebind==0.1.0) (0.7.1)\n",
            "Requirement already satisfied: nvidia-nccl-cu12==2.27.3 in /usr/local/lib/python3.12/dist-packages (from torch>=2.0.0->imagebind==0.1.0) (2.27.3)\n",
            "Requirement already satisfied: nvidia-nvtx-cu12==12.6.77 in /usr/local/lib/python3.12/dist-packages (from torch>=2.0.0->imagebind==0.1.0) (12.6.77)\n",
            "Requirement already satisfied: nvidia-nvjitlink-cu12==12.6.85 in /usr/local/lib/python3.12/dist-packages (from torch>=2.0.0->imagebind==0.1.0) (12.6.85)\n",
            "Requirement already satisfied: nvidia-cufile-cu12==1.11.1.6 in /usr/local/lib/python3.12/dist-packages (from torch>=2.0.0->imagebind==0.1.0) (1.11.1.6)\n",
            "Requirement already satisfied: triton==3.4.0 in /usr/local/lib/python3.12/dist-packages (from torch>=2.0.0->imagebind==0.1.0) (3.4.0)\n",
            "Requirement already satisfied: wcwidth in /usr/local/lib/python3.12/dist-packages (from ftfy->imagebind==0.1.0) (0.2.14)\n",
            "Requirement already satisfied: tqdm in /usr/local/lib/python3.12/dist-packages (from iopath->imagebind==0.1.0) (4.67.1)\n",
            "Collecting portalocker (from iopath->imagebind==0.1.0)\n",
            "  Downloading portalocker-3.2.0-py3-none-any.whl.metadata (8.7 kB)\n",
            "Collecting fvcore (from pytorchvideo@ git+https://github.com/facebookresearch/pytorchvideo.git@6cdc929315aab1b5674b6dcf73b16ec99147735f->imagebind==0.1.0)\n",
            "  Downloading fvcore-0.1.5.post20221221.tar.gz (50 kB)\n",
            "\u001b[2K     \u001b[90m━━━━━━━━━━━━━━━━━━━━━━━━━━━━━━━━━━━━━━━━\u001b[0m \u001b[32m50.2/50.2 kB\u001b[0m \u001b[31m5.3 MB/s\u001b[0m eta \u001b[36m0:00:00\u001b[0m\n",
            "\u001b[?25h  Preparing metadata (setup.py) ... \u001b[?25l\u001b[?25hdone\n",
            "Collecting av (from pytorchvideo@ git+https://github.com/facebookresearch/pytorchvideo.git@6cdc929315aab1b5674b6dcf73b16ec99147735f->imagebind==0.1.0)\n",
            "  Downloading av-16.0.1-cp312-cp312-manylinux_2_28_x86_64.whl.metadata (4.6 kB)\n",
            "Collecting parameterized (from pytorchvideo@ git+https://github.com/facebookresearch/pytorchvideo.git@6cdc929315aab1b5674b6dcf73b16ec99147735f->imagebind==0.1.0)\n",
            "  Downloading parameterized-0.9.0-py2.py3-none-any.whl.metadata (18 kB)\n",
            "Requirement already satisfied: pyyaml in /usr/local/lib/python3.12/dist-packages (from timm->imagebind==0.1.0) (6.0.3)\n",
            "Requirement already satisfied: huggingface_hub in /usr/local/lib/python3.12/dist-packages (from timm->imagebind==0.1.0) (0.35.3)\n",
            "Requirement already satisfied: safetensors in /usr/local/lib/python3.12/dist-packages (from timm->imagebind==0.1.0) (0.6.2)\n",
            "Requirement already satisfied: pillow!=8.3.*,>=5.3.0 in /usr/local/lib/python3.12/dist-packages (from torchvision->imagebind==0.1.0) (11.3.0)\n",
            "Requirement already satisfied: mpmath<1.4,>=1.1.0 in /usr/local/lib/python3.12/dist-packages (from sympy>=1.13.3->torch>=2.0.0->imagebind==0.1.0) (1.3.0)\n",
            "Collecting yacs>=0.1.6 (from fvcore->pytorchvideo@ git+https://github.com/facebookresearch/pytorchvideo.git@6cdc929315aab1b5674b6dcf73b16ec99147735f->imagebind==0.1.0)\n",
            "  Downloading yacs-0.1.8-py3-none-any.whl.metadata (639 bytes)\n",
            "Requirement already satisfied: termcolor>=1.1 in /usr/local/lib/python3.12/dist-packages (from fvcore->pytorchvideo@ git+https://github.com/facebookresearch/pytorchvideo.git@6cdc929315aab1b5674b6dcf73b16ec99147735f->imagebind==0.1.0) (3.1.0)\n",
            "Requirement already satisfied: tabulate in /usr/local/lib/python3.12/dist-packages (from fvcore->pytorchvideo@ git+https://github.com/facebookresearch/pytorchvideo.git@6cdc929315aab1b5674b6dcf73b16ec99147735f->imagebind==0.1.0) (0.9.0)\n",
            "Requirement already satisfied: packaging>=20.9 in /usr/local/lib/python3.12/dist-packages (from huggingface_hub->timm->imagebind==0.1.0) (25.0)\n",
            "Requirement already satisfied: requests in /usr/local/lib/python3.12/dist-packages (from huggingface_hub->timm->imagebind==0.1.0) (2.32.4)\n",
            "Requirement already satisfied: hf-xet<2.0.0,>=1.1.3 in /usr/local/lib/python3.12/dist-packages (from huggingface_hub->timm->imagebind==0.1.0) (1.1.10)\n",
            "Requirement already satisfied: MarkupSafe>=2.0 in /usr/local/lib/python3.12/dist-packages (from jinja2->torch>=2.0.0->imagebind==0.1.0) (3.0.3)\n",
            "Requirement already satisfied: charset_normalizer<4,>=2 in /usr/local/lib/python3.12/dist-packages (from requests->huggingface_hub->timm->imagebind==0.1.0) (3.4.4)\n",
            "Requirement already satisfied: idna<4,>=2.5 in /usr/local/lib/python3.12/dist-packages (from requests->huggingface_hub->timm->imagebind==0.1.0) (3.11)\n",
            "Requirement already satisfied: urllib3<3,>=1.21.1 in /usr/local/lib/python3.12/dist-packages (from requests->huggingface_hub->timm->imagebind==0.1.0) (2.5.0)\n",
            "Requirement already satisfied: certifi>=2017.4.17 in /usr/local/lib/python3.12/dist-packages (from requests->huggingface_hub->timm->imagebind==0.1.0) (2025.10.5)\n",
            "Downloading ftfy-6.3.1-py3-none-any.whl (44 kB)\n",
            "\u001b[2K   \u001b[90m━━━━━━━━━━━━━━━━━━━━━━━━━━━━━━━━━━━━━━━━\u001b[0m \u001b[32m44.8/44.8 kB\u001b[0m \u001b[31m5.2 MB/s\u001b[0m eta \u001b[36m0:00:00\u001b[0m\n",
            "\u001b[?25hDownloading types_regex-2025.10.23.20251023-py3-none-any.whl (11 kB)\n",
            "Downloading av-16.0.1-cp312-cp312-manylinux_2_28_x86_64.whl (40.5 MB)\n",
            "\u001b[2K   \u001b[90m━━━━━━━━━━━━━━━━━━━━━━━━━━━━━━━━━━━━━━━━\u001b[0m \u001b[32m40.5/40.5 MB\u001b[0m \u001b[31m26.5 MB/s\u001b[0m eta \u001b[36m0:00:00\u001b[0m\n",
            "\u001b[?25hDownloading parameterized-0.9.0-py2.py3-none-any.whl (20 kB)\n",
            "Downloading portalocker-3.2.0-py3-none-any.whl (22 kB)\n",
            "Downloading yacs-0.1.8-py3-none-any.whl (14 kB)\n",
            "Building wheels for collected packages: imagebind, iopath, pytorchvideo, fvcore\n",
            "  Building wheel for imagebind (setup.py) ... \u001b[?25l\u001b[?25hdone\n",
            "  Created wheel for imagebind: filename=imagebind-0.1.0-py3-none-any.whl size=1385592 sha256=e174f35fe4c4a5445213abe9ad3c5ee9f0e0ac9e7f959b5e96eb6e91ce4b345a\n",
            "  Stored in directory: /tmp/pip-ephem-wheel-cache-hgevn66q/wheels/09/6b/b8/2f3b0adfbc0a97c03fd8d07f41806ebae57d614fffbf48c13e\n",
            "  Building wheel for iopath (setup.py) ... \u001b[?25l\u001b[?25hdone\n",
            "  Created wheel for iopath: filename=iopath-0.1.10-py3-none-any.whl size=31527 sha256=4254f418364bb0c0ff313f94254b2b0bf905789bb70a4b2143ef8cd859955076\n",
            "  Stored in directory: /root/.cache/pip/wheels/7c/96/04/4f5f31ff812f684f69f40cb1634357812220aac58d4698048c\n",
            "  Building wheel for pytorchvideo (setup.py) ... \u001b[?25l\u001b[?25hdone\n",
            "  Created wheel for pytorchvideo: filename=pytorchvideo-0.1.5-py3-none-any.whl size=213014 sha256=f7ac5a8b9458160857d4de5387e4659b015c96ed026f01a7282d0ad451913640\n",
            "  Stored in directory: /root/.cache/pip/wheels/f2/e1/3c/62d65f6ea1f1de3177b6d9280234e49f429c0a0af34ccbc9dc\n",
            "  Building wheel for fvcore (setup.py) ... \u001b[?25l\u001b[?25hdone\n",
            "  Created wheel for fvcore: filename=fvcore-0.1.5.post20221221-py3-none-any.whl size=61397 sha256=8486d5681b94328e12f50e09c788b087c8c3a93027613b8a64101246be5d62dd\n",
            "  Stored in directory: /root/.cache/pip/wheels/ed/9f/a5/e4f5b27454ccd4596bd8b62432c7d6b1ca9fa22aef9d70a16a\n",
            "Successfully built imagebind iopath pytorchvideo fvcore\n",
            "Installing collected packages: yacs, types-regex, portalocker, parameterized, ftfy, av, iopath, fvcore, pytorchvideo, imagebind\n",
            "Successfully installed av-16.0.1 ftfy-6.3.1 fvcore-0.1.5.post20221221 imagebind-0.1.0 iopath-0.1.10 parameterized-0.9.0 portalocker-3.2.0 pytorchvideo-0.1.5 types-regex-2025.10.23.20251023 yacs-0.1.8\n",
            "Collecting decord\n",
            "  Downloading decord-0.6.0-py3-none-manylinux2010_x86_64.whl.metadata (422 bytes)\n",
            "Collecting easyocr\n",
            "  Downloading easyocr-1.7.2-py3-none-any.whl.metadata (10 kB)\n",
            "Requirement already satisfied: pillow in /usr/local/lib/python3.12/dist-packages (11.3.0)\n",
            "Requirement already satisfied: opencv-python-headless in /usr/local/lib/python3.12/dist-packages (4.12.0.88)\n",
            "Requirement already satisfied: gdown in /usr/local/lib/python3.12/dist-packages (5.2.0)\n",
            "Requirement already satisfied: numpy>=1.14.0 in /usr/local/lib/python3.12/dist-packages (from decord) (2.0.2)\n",
            "Requirement already satisfied: torch in /usr/local/lib/python3.12/dist-packages (from easyocr) (2.8.0+cu126)\n",
            "Requirement already satisfied: torchvision>=0.5 in /usr/local/lib/python3.12/dist-packages (from easyocr) (0.23.0+cu126)\n",
            "Requirement already satisfied: scipy in /usr/local/lib/python3.12/dist-packages (from easyocr) (1.16.2)\n",
            "Requirement already satisfied: scikit-image in /usr/local/lib/python3.12/dist-packages (from easyocr) (0.25.2)\n",
            "Collecting python-bidi (from easyocr)\n",
            "  Downloading python_bidi-0.6.7-cp312-cp312-manylinux_2_17_x86_64.manylinux2014_x86_64.whl.metadata (4.9 kB)\n",
            "Requirement already satisfied: PyYAML in /usr/local/lib/python3.12/dist-packages (from easyocr) (6.0.3)\n",
            "Requirement already satisfied: Shapely in /usr/local/lib/python3.12/dist-packages (from easyocr) (2.1.2)\n",
            "Collecting pyclipper (from easyocr)\n",
            "  Downloading pyclipper-1.3.0.post6-cp312-cp312-manylinux_2_17_x86_64.manylinux2014_x86_64.whl.metadata (9.0 kB)\n",
            "Collecting ninja (from easyocr)\n",
            "  Downloading ninja-1.13.0-py3-none-manylinux2014_x86_64.manylinux_2_17_x86_64.whl.metadata (5.1 kB)\n",
            "Requirement already satisfied: beautifulsoup4 in /usr/local/lib/python3.12/dist-packages (from gdown) (4.13.5)\n",
            "Requirement already satisfied: filelock in /usr/local/lib/python3.12/dist-packages (from gdown) (3.20.0)\n",
            "Requirement already satisfied: requests[socks] in /usr/local/lib/python3.12/dist-packages (from gdown) (2.32.4)\n",
            "Requirement already satisfied: tqdm in /usr/local/lib/python3.12/dist-packages (from gdown) (4.67.1)\n",
            "Requirement already satisfied: typing-extensions>=4.10.0 in /usr/local/lib/python3.12/dist-packages (from torch->easyocr) (4.15.0)\n",
            "Requirement already satisfied: setuptools in /usr/local/lib/python3.12/dist-packages (from torch->easyocr) (75.2.0)\n",
            "Requirement already satisfied: sympy>=1.13.3 in /usr/local/lib/python3.12/dist-packages (from torch->easyocr) (1.13.3)\n",
            "Requirement already satisfied: networkx in /usr/local/lib/python3.12/dist-packages (from torch->easyocr) (3.5)\n",
            "Requirement already satisfied: jinja2 in /usr/local/lib/python3.12/dist-packages (from torch->easyocr) (3.1.6)\n",
            "Requirement already satisfied: fsspec in /usr/local/lib/python3.12/dist-packages (from torch->easyocr) (2025.3.0)\n",
            "Requirement already satisfied: nvidia-cuda-nvrtc-cu12==12.6.77 in /usr/local/lib/python3.12/dist-packages (from torch->easyocr) (12.6.77)\n",
            "Requirement already satisfied: nvidia-cuda-runtime-cu12==12.6.77 in /usr/local/lib/python3.12/dist-packages (from torch->easyocr) (12.6.77)\n",
            "Requirement already satisfied: nvidia-cuda-cupti-cu12==12.6.80 in /usr/local/lib/python3.12/dist-packages (from torch->easyocr) (12.6.80)\n",
            "Requirement already satisfied: nvidia-cudnn-cu12==9.10.2.21 in /usr/local/lib/python3.12/dist-packages (from torch->easyocr) (9.10.2.21)\n",
            "Requirement already satisfied: nvidia-cublas-cu12==12.6.4.1 in /usr/local/lib/python3.12/dist-packages (from torch->easyocr) (12.6.4.1)\n",
            "Requirement already satisfied: nvidia-cufft-cu12==11.3.0.4 in /usr/local/lib/python3.12/dist-packages (from torch->easyocr) (11.3.0.4)\n",
            "Requirement already satisfied: nvidia-curand-cu12==10.3.7.77 in /usr/local/lib/python3.12/dist-packages (from torch->easyocr) (10.3.7.77)\n",
            "Requirement already satisfied: nvidia-cusolver-cu12==11.7.1.2 in /usr/local/lib/python3.12/dist-packages (from torch->easyocr) (11.7.1.2)\n",
            "Requirement already satisfied: nvidia-cusparse-cu12==12.5.4.2 in /usr/local/lib/python3.12/dist-packages (from torch->easyocr) (12.5.4.2)\n",
            "Requirement already satisfied: nvidia-cusparselt-cu12==0.7.1 in /usr/local/lib/python3.12/dist-packages (from torch->easyocr) (0.7.1)\n",
            "Requirement already satisfied: nvidia-nccl-cu12==2.27.3 in /usr/local/lib/python3.12/dist-packages (from torch->easyocr) (2.27.3)\n",
            "Requirement already satisfied: nvidia-nvtx-cu12==12.6.77 in /usr/local/lib/python3.12/dist-packages (from torch->easyocr) (12.6.77)\n",
            "Requirement already satisfied: nvidia-nvjitlink-cu12==12.6.85 in /usr/local/lib/python3.12/dist-packages (from torch->easyocr) (12.6.85)\n",
            "Requirement already satisfied: nvidia-cufile-cu12==1.11.1.6 in /usr/local/lib/python3.12/dist-packages (from torch->easyocr) (1.11.1.6)\n",
            "Requirement already satisfied: triton==3.4.0 in /usr/local/lib/python3.12/dist-packages (from torch->easyocr) (3.4.0)\n",
            "Requirement already satisfied: soupsieve>1.2 in /usr/local/lib/python3.12/dist-packages (from beautifulsoup4->gdown) (2.8)\n",
            "Requirement already satisfied: charset_normalizer<4,>=2 in /usr/local/lib/python3.12/dist-packages (from requests[socks]->gdown) (3.4.4)\n",
            "Requirement already satisfied: idna<4,>=2.5 in /usr/local/lib/python3.12/dist-packages (from requests[socks]->gdown) (3.11)\n",
            "Requirement already satisfied: urllib3<3,>=1.21.1 in /usr/local/lib/python3.12/dist-packages (from requests[socks]->gdown) (2.5.0)\n",
            "Requirement already satisfied: certifi>=2017.4.17 in /usr/local/lib/python3.12/dist-packages (from requests[socks]->gdown) (2025.10.5)\n",
            "Requirement already satisfied: PySocks!=1.5.7,>=1.5.6 in /usr/local/lib/python3.12/dist-packages (from requests[socks]->gdown) (1.7.1)\n",
            "Requirement already satisfied: imageio!=2.35.0,>=2.33 in /usr/local/lib/python3.12/dist-packages (from scikit-image->easyocr) (2.37.0)\n",
            "Requirement already satisfied: tifffile>=2022.8.12 in /usr/local/lib/python3.12/dist-packages (from scikit-image->easyocr) (2025.10.16)\n",
            "Requirement already satisfied: packaging>=21 in /usr/local/lib/python3.12/dist-packages (from scikit-image->easyocr) (25.0)\n",
            "Requirement already satisfied: lazy-loader>=0.4 in /usr/local/lib/python3.12/dist-packages (from scikit-image->easyocr) (0.4)\n",
            "Requirement already satisfied: mpmath<1.4,>=1.1.0 in /usr/local/lib/python3.12/dist-packages (from sympy>=1.13.3->torch->easyocr) (1.3.0)\n",
            "Requirement already satisfied: MarkupSafe>=2.0 in /usr/local/lib/python3.12/dist-packages (from jinja2->torch->easyocr) (3.0.3)\n",
            "Downloading decord-0.6.0-py3-none-manylinux2010_x86_64.whl (13.6 MB)\n",
            "\u001b[2K   \u001b[90m━━━━━━━━━━━━━━━━━━━━━━━━━━━━━━━━━━━━━━━━\u001b[0m \u001b[32m13.6/13.6 MB\u001b[0m \u001b[31m76.1 MB/s\u001b[0m eta \u001b[36m0:00:00\u001b[0m\n",
            "\u001b[?25hDownloading easyocr-1.7.2-py3-none-any.whl (2.9 MB)\n",
            "\u001b[2K   \u001b[90m━━━━━━━━━━━━━━━━━━━━━━━━━━━━━━━━━━━━━━━━\u001b[0m \u001b[32m2.9/2.9 MB\u001b[0m \u001b[31m72.9 MB/s\u001b[0m eta \u001b[36m0:00:00\u001b[0m\n",
            "\u001b[?25hDownloading ninja-1.13.0-py3-none-manylinux2014_x86_64.manylinux_2_17_x86_64.whl (180 kB)\n",
            "\u001b[2K   \u001b[90m━━━━━━━━━━━━━━━━━━━━━━━━━━━━━━━━━━━━━━━━\u001b[0m \u001b[32m180.7/180.7 kB\u001b[0m \u001b[31m12.5 MB/s\u001b[0m eta \u001b[36m0:00:00\u001b[0m\n",
            "\u001b[?25hDownloading pyclipper-1.3.0.post6-cp312-cp312-manylinux_2_17_x86_64.manylinux2014_x86_64.whl (963 kB)\n",
            "\u001b[2K   \u001b[90m━━━━━━━━━━━━━━━━━━━━━━━━━━━━━━━━━━━━━━━━\u001b[0m \u001b[32m963.8/963.8 kB\u001b[0m \u001b[31m37.8 MB/s\u001b[0m eta \u001b[36m0:00:00\u001b[0m\n",
            "\u001b[?25hDownloading python_bidi-0.6.7-cp312-cp312-manylinux_2_17_x86_64.manylinux2014_x86_64.whl (300 kB)\n",
            "\u001b[2K   \u001b[90m━━━━━━━━━━━━━━━━━━━━━━━━━━━━━━━━━━━━━━━━\u001b[0m \u001b[32m300.6/300.6 kB\u001b[0m \u001b[31m21.3 MB/s\u001b[0m eta \u001b[36m0:00:00\u001b[0m\n",
            "\u001b[?25hInstalling collected packages: python-bidi, pyclipper, ninja, decord, easyocr\n",
            "Successfully installed decord-0.6.0 easyocr-1.7.2 ninja-1.13.0 pyclipper-1.3.0.post6 python-bidi-0.6.7\n",
            "Looking in indexes: https://download.pytorch.org/whl/cu126\n",
            "Requirement already satisfied: torch in /usr/local/lib/python3.12/dist-packages (2.8.0+cu126)\n",
            "Requirement already satisfied: torchvision in /usr/local/lib/python3.12/dist-packages (0.23.0+cu126)\n",
            "Requirement already satisfied: torchaudio in /usr/local/lib/python3.12/dist-packages (2.8.0+cu126)\n",
            "Requirement already satisfied: filelock in /usr/local/lib/python3.12/dist-packages (from torch) (3.20.0)\n",
            "Requirement already satisfied: typing-extensions>=4.10.0 in /usr/local/lib/python3.12/dist-packages (from torch) (4.15.0)\n",
            "Requirement already satisfied: setuptools in /usr/local/lib/python3.12/dist-packages (from torch) (75.2.0)\n",
            "Requirement already satisfied: sympy>=1.13.3 in /usr/local/lib/python3.12/dist-packages (from torch) (1.13.3)\n",
            "Requirement already satisfied: networkx in /usr/local/lib/python3.12/dist-packages (from torch) (3.5)\n",
            "Requirement already satisfied: jinja2 in /usr/local/lib/python3.12/dist-packages (from torch) (3.1.6)\n",
            "Requirement already satisfied: fsspec in /usr/local/lib/python3.12/dist-packages (from torch) (2025.3.0)\n",
            "Requirement already satisfied: nvidia-cuda-nvrtc-cu12==12.6.77 in /usr/local/lib/python3.12/dist-packages (from torch) (12.6.77)\n",
            "Requirement already satisfied: nvidia-cuda-runtime-cu12==12.6.77 in /usr/local/lib/python3.12/dist-packages (from torch) (12.6.77)\n",
            "Requirement already satisfied: nvidia-cuda-cupti-cu12==12.6.80 in /usr/local/lib/python3.12/dist-packages (from torch) (12.6.80)\n",
            "Requirement already satisfied: nvidia-cudnn-cu12==9.10.2.21 in /usr/local/lib/python3.12/dist-packages (from torch) (9.10.2.21)\n",
            "Requirement already satisfied: nvidia-cublas-cu12==12.6.4.1 in /usr/local/lib/python3.12/dist-packages (from torch) (12.6.4.1)\n",
            "Requirement already satisfied: nvidia-cufft-cu12==11.3.0.4 in /usr/local/lib/python3.12/dist-packages (from torch) (11.3.0.4)\n",
            "Requirement already satisfied: nvidia-curand-cu12==10.3.7.77 in /usr/local/lib/python3.12/dist-packages (from torch) (10.3.7.77)\n",
            "Requirement already satisfied: nvidia-cusolver-cu12==11.7.1.2 in /usr/local/lib/python3.12/dist-packages (from torch) (11.7.1.2)\n",
            "Requirement already satisfied: nvidia-cusparse-cu12==12.5.4.2 in /usr/local/lib/python3.12/dist-packages (from torch) (12.5.4.2)\n",
            "Requirement already satisfied: nvidia-cusparselt-cu12==0.7.1 in /usr/local/lib/python3.12/dist-packages (from torch) (0.7.1)\n",
            "Requirement already satisfied: nvidia-nccl-cu12==2.27.3 in /usr/local/lib/python3.12/dist-packages (from torch) (2.27.3)\n",
            "Requirement already satisfied: nvidia-nvtx-cu12==12.6.77 in /usr/local/lib/python3.12/dist-packages (from torch) (12.6.77)\n",
            "Requirement already satisfied: nvidia-nvjitlink-cu12==12.6.85 in /usr/local/lib/python3.12/dist-packages (from torch) (12.6.85)\n",
            "Requirement already satisfied: nvidia-cufile-cu12==1.11.1.6 in /usr/local/lib/python3.12/dist-packages (from torch) (1.11.1.6)\n",
            "Requirement already satisfied: triton==3.4.0 in /usr/local/lib/python3.12/dist-packages (from torch) (3.4.0)\n",
            "Requirement already satisfied: numpy in /usr/local/lib/python3.12/dist-packages (from torchvision) (2.0.2)\n",
            "Requirement already satisfied: pillow!=8.3.*,>=5.3.0 in /usr/local/lib/python3.12/dist-packages (from torchvision) (11.3.0)\n",
            "Requirement already satisfied: mpmath<1.4,>=1.1.0 in /usr/local/lib/python3.12/dist-packages (from sympy>=1.13.3->torch) (1.3.0)\n",
            "Requirement already satisfied: MarkupSafe>=2.0 in /usr/local/lib/python3.12/dist-packages (from jinja2->torch) (3.0.3)\n",
            "/content\n"
          ]
        }
      ],
      "source": [
        "%cd ImageBind\n",
        "!pip install .\n",
        "!pip install decord easyocr pillow opencv-python-headless gdown\n",
        "!pip install torch torchvision torchaudio --index-url https://download.pytorch.org/whl/cu126\n",
        "%cd .."
      ]
    },
    {
      "cell_type": "code",
      "source": [
        "!gdown 1ic_Obo_kn0B3eT5XZmnz1eqcPw5XMPnL"
      ],
      "metadata": {
        "id": "uIhcp39yZ7V_",
        "colab": {
          "base_uri": "https://localhost:8080/"
        },
        "outputId": "74cffb48-5b17-4870-c854-c0de6a7b5319"
      },
      "execution_count": null,
      "outputs": [
        {
          "output_type": "stream",
          "name": "stdout",
          "text": [
            "Downloading...\n",
            "From (original): https://drive.google.com/uc?id=1ic_Obo_kn0B3eT5XZmnz1eqcPw5XMPnL\n",
            "From (redirected): https://drive.google.com/uc?id=1ic_Obo_kn0B3eT5XZmnz1eqcPw5XMPnL&confirm=t&uuid=1c71a88c-9997-4bf8-b36e-02063dced23b\n",
            "To: /content/ads-copy.zip\n",
            "100% 85.6M/85.6M [00:02<00:00, 37.9MB/s]\n"
          ]
        }
      ]
    },
    {
      "cell_type": "code",
      "source": [
        "!unzip ads-copy.zip"
      ],
      "metadata": {
        "id": "Q04gJdiwZAig",
        "colab": {
          "base_uri": "https://localhost:8080/"
        },
        "outputId": "758ce8da-e38a-4f2b-fbd9-7361c5d19d61"
      },
      "execution_count": null,
      "outputs": [
        {
          "output_type": "stream",
          "name": "stdout",
          "text": [
            "Archive:  ads-copy.zip\n",
            "   creating: ads/\n",
            "  inflating: ads/.DS_Store           \n",
            "  inflating: __MACOSX/ads/._.DS_Store  \n",
            "   creating: ads/images/\n",
            "   creating: ads/videos/\n",
            "  inflating: ads/images/i0018.png    \n",
            "  inflating: __MACOSX/ads/images/._i0018.png  \n",
            "  inflating: ads/images/i0009.png    \n",
            "  inflating: __MACOSX/ads/images/._i0009.png  \n",
            "  inflating: ads/images/i0008.png    \n",
            "  inflating: __MACOSX/ads/images/._i0008.png  \n",
            "  inflating: ads/images/i0006.png    \n",
            "  inflating: __MACOSX/ads/images/._i0006.png  \n",
            "  inflating: ads/images/i0012.png    \n",
            "  inflating: __MACOSX/ads/images/._i0012.png  \n",
            "  inflating: ads/images/i0013.png    \n",
            "  inflating: __MACOSX/ads/images/._i0013.png  \n",
            "  inflating: ads/images/i0007.png    \n",
            "  inflating: __MACOSX/ads/images/._i0007.png  \n",
            "  inflating: ads/images/i0011.png    \n",
            "  inflating: __MACOSX/ads/images/._i0011.png  \n",
            "  inflating: ads/images/i0005.png    \n",
            "  inflating: __MACOSX/ads/images/._i0005.png  \n",
            "  inflating: ads/images/i0004.png    \n",
            "  inflating: __MACOSX/ads/images/._i0004.png  \n",
            "  inflating: ads/images/i0010.png    \n",
            "  inflating: __MACOSX/ads/images/._i0010.png  \n",
            "  inflating: ads/images/i0014.png    \n",
            "  inflating: __MACOSX/ads/images/._i0014.png  \n",
            "  inflating: ads/images/i0001.png    \n",
            "  inflating: __MACOSX/ads/images/._i0001.png  \n",
            "  inflating: ads/images/i0015.png    \n",
            "  inflating: __MACOSX/ads/images/._i0015.png  \n",
            "  inflating: ads/images/i0003.png    \n",
            "  inflating: __MACOSX/ads/images/._i0003.png  \n",
            "  inflating: ads/images/i0017.png    \n",
            "  inflating: __MACOSX/ads/images/._i0017.png  \n",
            "  inflating: ads/images/i0016.png    \n",
            "  inflating: __MACOSX/ads/images/._i0016.png  \n",
            "  inflating: ads/images/i0002.png    \n",
            "  inflating: __MACOSX/ads/images/._i0002.png  \n",
            "  inflating: ads/videos/v0005.mp4    \n",
            "  inflating: __MACOSX/ads/videos/._v0005.mp4  \n",
            "  inflating: ads/videos/v0011.mp4    \n",
            "  inflating: __MACOSX/ads/videos/._v0011.mp4  \n",
            "  inflating: ads/videos/v0010.mp4    \n",
            "  inflating: __MACOSX/ads/videos/._v0010.mp4  \n",
            "  inflating: ads/videos/v0004.mp4    \n",
            "  inflating: __MACOSX/ads/videos/._v0004.mp4  \n",
            "  inflating: ads/videos/v0012.mp4    \n",
            "  inflating: __MACOSX/ads/videos/._v0012.mp4  \n",
            "  inflating: ads/videos/v0006.mp4    \n",
            "  inflating: __MACOSX/ads/videos/._v0006.mp4  \n",
            "  inflating: ads/videos/v0007.mp4    \n",
            "  inflating: __MACOSX/ads/videos/._v0007.mp4  \n",
            "  inflating: ads/videos/v0013.mp4    \n",
            "  inflating: __MACOSX/ads/videos/._v0013.mp4  \n",
            "  inflating: ads/videos/v0017.mp4    \n",
            "  inflating: __MACOSX/ads/videos/._v0017.mp4  \n",
            "  inflating: ads/videos/v0003.mp4    \n",
            "  inflating: __MACOSX/ads/videos/._v0003.mp4  \n",
            "  inflating: ads/videos/v0002.mp4    \n",
            "  inflating: __MACOSX/ads/videos/._v0002.mp4  \n",
            "  inflating: ads/videos/v0016.mp4    \n",
            "  inflating: __MACOSX/ads/videos/._v0016.mp4  \n",
            "  inflating: ads/videos/v0014.mp4    \n",
            "  inflating: __MACOSX/ads/videos/._v0014.mp4  \n",
            "  inflating: ads/videos/v0015.mp4    \n",
            "  inflating: __MACOSX/ads/videos/._v0015.mp4  \n",
            "  inflating: ads/videos/v0001.mp4    \n",
            "  inflating: __MACOSX/ads/videos/._v0001.mp4  \n",
            "  inflating: ads/videos/v0018.mp4    \n",
            "  inflating: __MACOSX/ads/videos/._v0018.mp4  \n",
            "  inflating: ads/videos/v0019.mp4    \n",
            "  inflating: __MACOSX/ads/videos/._v0019.mp4  \n",
            "  inflating: ads/videos/v0022.mp4    \n",
            "  inflating: __MACOSX/ads/videos/._v0022.mp4  \n",
            "  inflating: ads/videos/v0023.mp4    \n",
            "  inflating: __MACOSX/ads/videos/._v0023.mp4  \n",
            "  inflating: ads/videos/v0021.mp4    \n",
            "  inflating: __MACOSX/ads/videos/._v0021.mp4  \n",
            "  inflating: ads/videos/v0009.mp4    \n",
            "  inflating: __MACOSX/ads/videos/._v0009.mp4  \n",
            "  inflating: ads/videos/v0008.mp4    \n",
            "  inflating: __MACOSX/ads/videos/._v0008.mp4  \n",
            "  inflating: ads/videos/v0020.mp4    \n",
            "  inflating: __MACOSX/ads/videos/._v0020.mp4  \n"
          ]
        }
      ]
    },
    {
      "cell_type": "markdown",
      "source": [],
      "metadata": {
        "id": "3FzZdk7oZCJB"
      }
    },
    {
      "cell_type": "code",
      "metadata": {
        "id": "8a8374a5"
      },
      "source": [
        "import os\n",
        "\n",
        "def list_files_in_directory(directory_path):\n",
        "  \"\"\"\n",
        "  Lists all files in a given directory.\n",
        "\n",
        "  Args:\n",
        "    directory_path: The path to the directory.\n",
        "\n",
        "  Returns:\n",
        "    A list of file paths within the directory.\n",
        "  \"\"\"\n",
        "  file_list = []\n",
        "  for filename in os.listdir(directory_path):\n",
        "    file_path = os.path.join(directory_path, filename)\n",
        "    if os.path.isfile(file_path):\n",
        "      file_list.append(file_path)\n",
        "  return file_list\n",
        "\n",
        "# Example usage:\n",
        "video_path = list_files_in_directory('./ads/videos')\n",
        "image_path = list_files_in_directory('./ads/images')\n",
        "\n",
        "# print(my_files)"
      ],
      "execution_count": null,
      "outputs": []
    },
    {
      "cell_type": "code",
      "source": [
        "print(image_path)\n",
        "print(video_path)"
      ],
      "metadata": {
        "colab": {
          "base_uri": "https://localhost:8080/"
        },
        "id": "YTlk_8rCfhE8",
        "outputId": "e804de3f-e86d-4de2-9661-62b7bd901eb5"
      },
      "execution_count": null,
      "outputs": [
        {
          "output_type": "stream",
          "name": "stdout",
          "text": [
            "['./ads/images/i0006.png', './ads/images/i0017.png', './ads/images/i0004.png', './ads/images/i0015.png', './ads/images/i0018.png', './ads/images/i0002.png', './ads/images/i0012.png', './ads/images/i0016.png', './ads/images/i0014.png', './ads/images/i0001.png', './ads/images/i0009.png', './ads/images/i0003.png', './ads/images/i0011.png', './ads/images/i0010.png', './ads/images/i0008.png', './ads/images/i0005.png', './ads/images/i0013.png', './ads/images/i0007.png']\n",
            "['./ads/videos/v0007.mp4', './ads/videos/v0022.mp4', './ads/videos/v0002.mp4', './ads/videos/v0011.mp4', './ads/videos/v0019.mp4', './ads/videos/v0016.mp4', './ads/videos/v0014.mp4', './ads/videos/v0001.mp4', './ads/videos/v0003.mp4', './ads/videos/v0012.mp4', './ads/videos/v0009.mp4', './ads/videos/v0005.mp4', './ads/videos/v0013.mp4', './ads/videos/v0021.mp4', './ads/videos/v0010.mp4', './ads/videos/v0004.mp4', './ads/videos/v0017.mp4', './ads/videos/v0023.mp4', './ads/videos/v0015.mp4', './ads/videos/v0020.mp4', './ads/videos/v0008.mp4', './ads/videos/v0018.mp4', './ads/videos/v0006.mp4']\n"
          ]
        }
      ]
    },
    {
      "cell_type": "code",
      "metadata": {
        "colab": {
          "base_uri": "https://localhost:8080/"
        },
        "id": "1ab1815e",
        "outputId": "36bd6c9b-5aea-4646-827b-fda25dc9a569"
      },
      "source": [
        "import torch\n",
        "\n",
        "if torch.cuda.is_available():\n",
        "    print(\"CUDA is available. Using GPU.\")\n",
        "else:\n",
        "    print(\"CUDA is not available. Using CPU.\")"
      ],
      "execution_count": null,
      "outputs": [
        {
          "output_type": "stream",
          "name": "stdout",
          "text": [
            "CUDA is available. Using GPU.\n"
          ]
        }
      ]
    },
    {
      "cell_type": "code",
      "source": [
        "%cd ..\n",
        "!ls"
      ],
      "metadata": {
        "colab": {
          "base_uri": "https://localhost:8080/"
        },
        "id": "WwiEB0ABgVcV",
        "outputId": "8ad10d38-d5a6-4420-aebf-4619ca33c89c"
      },
      "execution_count": null,
      "outputs": [
        {
          "output_type": "stream",
          "name": "stdout",
          "text": [
            "/content\n",
            "ads  ads-copy.zip  calhacks-12\tImageBind  __MACOSX  sample_data\n"
          ]
        }
      ]
    },
    {
      "cell_type": "markdown",
      "source": [
        "## ImageBind Test"
      ],
      "metadata": {
        "id": "0x_KhVFWW_4U"
      }
    },
    {
      "cell_type": "code",
      "source": [
        "%cd ImageBind"
      ],
      "metadata": {
        "colab": {
          "base_uri": "https://localhost:8080/"
        },
        "id": "z-WkqKfghGQk",
        "outputId": "f449b762-2551-447d-b783-e5f22dc58001"
      },
      "execution_count": null,
      "outputs": [
        {
          "output_type": "stream",
          "name": "stdout",
          "text": [
            "/content/ImageBind\n"
          ]
        }
      ]
    },
    {
      "cell_type": "code",
      "execution_count": null,
      "metadata": {
        "id": "xg67nsnjsfox",
        "colab": {
          "base_uri": "https://localhost:8080/"
        },
        "outputId": "817e6777-4034-43b3-fc6f-8c3fc6cd4583"
      },
      "outputs": [
        {
          "output_type": "stream",
          "name": "stderr",
          "text": [
            "/usr/local/lib/python3.12/dist-packages/torchaudio/_backend/utils.py:213: UserWarning: In 2.9, this function's implementation will be changed to use torchaudio.load_with_torchcodec` under the hood. Some parameters like ``normalize``, ``format``, ``buffer_size``, and ``backend`` will be ignored. We recommend that you port your code to rely directly on TorchCodec's decoder instead: https://docs.pytorch.org/torchcodec/stable/generated/torchcodec.decoders.AudioDecoder.html#torchcodec.decoders.AudioDecoder.\n",
            "  warnings.warn(\n",
            "/usr/local/lib/python3.12/dist-packages/torchaudio/_backend/ffmpeg.py:88: UserWarning: torio.io._streaming_media_decoder.StreamingMediaDecoder has been deprecated. This deprecation is part of a large refactoring effort to transition TorchAudio into a maintenance phase. The decoding and encoding capabilities of PyTorch for both audio and video are being consolidated into TorchCodec. Please see https://github.com/pytorch/audio/issues/3902 for more information. It will be removed from the 2.9 release. \n",
            "  s = torchaudio.io.StreamReader(src, format, None, buffer_size)\n"
          ]
        },
        {
          "output_type": "stream",
          "name": "stdout",
          "text": [
            "Vision x Text:  tensor([[9.9761e-01, 2.3694e-03, 1.8612e-05],\n",
            "        [3.3837e-05, 9.9994e-01, 2.4118e-05],\n",
            "        [4.7997e-05, 1.3496e-02, 9.8646e-01]], device='cuda:0')\n",
            "Audio x Text:  tensor([[1., 0., 0.],\n",
            "        [0., 1., 0.],\n",
            "        [0., 0., 1.]], device='cuda:0')\n",
            "Vision x Audio:  tensor([[0.8070, 0.1088, 0.0842],\n",
            "        [0.1036, 0.7884, 0.1079],\n",
            "        [0.0018, 0.0022, 0.9960]], device='cuda:0')\n"
          ]
        }
      ],
      "source": [
        "from imagebind import data\n",
        "import torch\n",
        "from imagebind.models import imagebind_model\n",
        "from imagebind.models.imagebind_model import ModalityType\n",
        "# import torch_xla\n",
        "# import torch_xla.core.xla_model as xm\n",
        "\n",
        "# text_list=[\"A dog.\", \"A car\", \"A bird\"]\n",
        "image_paths=[\".assets/dog_image.jpg\", \".assets/car_image.jpg\", \".assets/bird_image.jpg\"]\n",
        "audio_paths=[\".assets/dog_audio.wav\", \".assets/car_audio.wav\", \".assets/bird_audio.wav\"]\n",
        "text_list=[\"A dog.\", \"A car\", \"A bird\"]\n",
        "# image_paths=[\".assets/dog_image.jpg\", \".assets/car_image.jpg\", \".assets/bird_image.jpg\"]\n",
        "\n",
        "device = torch.device(\"cuda\" if torch.cuda.is_available() else \"cpu\")\n",
        "\n",
        "# Instantiate model\n",
        "model = imagebind_model.imagebind_huge(pretrained=True)\n",
        "model.eval()\n",
        "model.to(device)\n",
        "\n",
        "# Load data\n",
        "inputs = {\n",
        "    ModalityType.TEXT: data.load_and_transform_text(text_list, device),\n",
        "    ModalityType.VISION: data.load_and_transform_vision_data(image_paths, device),\n",
        "    ModalityType.AUDIO: data.load_and_transform_audio_data(audio_paths, device),\n",
        "}\n",
        "\n",
        "# inputs_vid = {\n",
        "#     ModalityType.VISION: data.load_and_transform_video_data(video_path, device)\n",
        "# }\n",
        "\n",
        "# inputs_img = {\n",
        "#     ModalityType.VISION: data.load_and_transform_vision_data(image_path, device)\n",
        "# }\n",
        "\n",
        "with torch.no_grad():\n",
        "    # emb_img = model(inputs_img)\n",
        "    # emb_vid = model(inputs_vid)\n",
        "    embeddings = model(inputs)\n",
        "\n",
        "print(\n",
        "    \"Vision x Text: \",\n",
        "    torch.softmax(embeddings[ModalityType.VISION] @ embeddings[ModalityType.TEXT].T, dim=-1),\n",
        ")\n",
        "print(\n",
        "    \"Audio x Text: \",\n",
        "    torch.softmax(embeddings[ModalityType.AUDIO] @ embeddings[ModalityType.TEXT].T, dim=-1),\n",
        ")\n",
        "print(\n",
        "    \"Vision x Audio: \",\n",
        "    torch.softmax(embeddings[ModalityType.VISION] @ embeddings[ModalityType.AUDIO].T, dim=-1))\n",
        "\n",
        "# print(\n",
        "#     \"Similarity comparison matrix: \",\n",
        "#     torch.softmax(emb_img[ModalityType.VISION] @ emb_vid[ModalityType.VISION].T, dim=-1),\n",
        "# )\n"
      ]
    },
    {
      "cell_type": "code",
      "source": [
        "%cd .."
      ],
      "metadata": {
        "colab": {
          "base_uri": "https://localhost:8080/"
        },
        "id": "OnUAHC1WhJBc",
        "outputId": "fada2605-216d-4fbe-f653-e6914368a174"
      },
      "execution_count": null,
      "outputs": [
        {
          "output_type": "stream",
          "name": "stdout",
          "text": [
            "/content\n"
          ]
        }
      ]
    },
    {
      "cell_type": "code",
      "source": [
        "print(\"torch.cuda.is_available:\", torch.cuda.is_available())\n",
        "if torch.cuda.is_available():\n",
        "    print(\"GPU:\", torch.cuda.get_device_name(0))\n",
        "print(\"Model device:\", next(model.parameters()).device)\n"
      ],
      "metadata": {
        "colab": {
          "base_uri": "https://localhost:8080/"
        },
        "id": "uUb5CBZl-gGE",
        "outputId": "18f17d65-f7b1-4adc-c584-87bcf8a66d50"
      },
      "execution_count": null,
      "outputs": [
        {
          "output_type": "stream",
          "name": "stdout",
          "text": [
            "torch.cuda.is_available: True\n",
            "GPU: Tesla T4\n",
            "Model device: cuda:0\n"
          ]
        }
      ]
    },
    {
      "cell_type": "code",
      "source": [
        "!mkdir out"
      ],
      "metadata": {
        "id": "DGOXhnWcYWcO"
      },
      "execution_count": null,
      "outputs": []
    },
    {
      "cell_type": "code",
      "source": [
        "!python calhacks-12/batch_embed_save_ocr.py \\\n",
        "  --images ../ads/images/ \\\n",
        "  --videos ../ads/videos/ \\\n",
        "  --weights ../ImageBind/.checkpoints/imagebind_huge.pt \\\n",
        "  --out-dir ../out \\\n",
        "  --batch 32 --half \\\n",
        "  --w-vision 1.0 --w-ocr 1.0 \\\n",
        "  --ocr-video-frames 6 \\\n",
        "  --ocr-gpu"
      ],
      "metadata": {
        "id": "cK_0AxWC2_9P"
      },
      "execution_count": null,
      "outputs": []
    },
    {
      "cell_type": "code",
      "source": [
        "# PCA on .npy embedding vectors (Jupyter cell — no arguments)\n",
        "# - Loads vectors from a folder and/or explicit list\n",
        "# - L2-normalizes each vector\n",
        "# - Runs PCA\n",
        "# - Prints explained variance and top extremes for first few PCs\n",
        "\n",
        "import os\n",
        "from pathlib import Path\n",
        "import numpy as np\n",
        "from sklearn.decomposition import PCA\n",
        "\n",
        "# ========= CONFIG =========\n",
        "EMBEDS_DIR = \"out/embeds\"   # folder containing .npy vectors (set to None to skip)\n",
        "FILES = []                  # or explicit list of .npy files, e.g. [\"a.npy\", \"b.npy\"]\n",
        "COMPONENTS = 10             # number of principal components\n",
        "SHOW_PCS = 3                # how many PCs to print extremes for\n",
        "SAVE_OUTPUTS = False        # set True to save arrays below\n",
        "OUT_DIR = \"pca_out\"         # used if SAVE_OUTPUTS=True\n",
        "# ==========================\n",
        "\n",
        "def gather_files(embeds_dir: str | None, files_list: list[str] | None):\n",
        "    files = []\n",
        "    if embeds_dir:\n",
        "        emb_dir = Path(embeds_dir)\n",
        "        files += sorted([p for p in emb_dir.glob(\"*.npy\") if p.is_file()])\n",
        "    if files_list:\n",
        "        files += [Path(p) for p in files_list]\n",
        "    # de-duplicate while preserving order\n",
        "    seen, uniq = set(), []\n",
        "    for p in files:\n",
        "        q = str(Path(p).resolve())\n",
        "        if q not in seen:\n",
        "            seen.add(q)\n",
        "            uniq.append(Path(q))\n",
        "    return uniq\n",
        "\n",
        "def row_l2_normalize(X: np.ndarray) -> np.ndarray:\n",
        "    norms = np.linalg.norm(X, axis=1, keepdims=True)\n",
        "    norms = np.where(np.isfinite(norms) & (norms > 0), norms, 1.0)\n",
        "    return X / norms\n",
        "\n",
        "def top_extremes(proj: np.ndarray, pc_index: int, k: int = 3):\n",
        "    scores = proj[:, pc_index]\n",
        "    top_pos_idx = np.argsort(scores)[-k:][::-1]  # largest k\n",
        "    top_neg_idx = np.argsort(scores)[:k]         # smallest k\n",
        "    return top_pos_idx, top_neg_idx, scores\n",
        "\n",
        "# 1) Collect files\n",
        "files = gather_files(EMBEDS_DIR, FILES)\n",
        "if not files:\n",
        "    raise SystemExit(\"No .npy files found. Set EMBEDS_DIR to a folder or FILES to a list of .npy paths.\")\n",
        "\n",
        "# 2) Load vectors and names\n",
        "X_list, names = [], []\n",
        "for p in files:\n",
        "    v = np.load(p).astype(np.float32)\n",
        "    if v.ndim != 1:\n",
        "        raise SystemExit(f\"Expected 1D vector in {p}, got {v.shape}\")\n",
        "    X_list.append(v)\n",
        "    names.append(Path(p).stem)\n",
        "X = np.stack(X_list, axis=0)  # [N, D]\n",
        "print(f\"Loaded {len(names)} vectors with dim={X.shape[1]}\")\n",
        "\n",
        "# 3) Normalize per vector (cosine geometry)\n",
        "Xn = row_l2_normalize(X)\n",
        "\n",
        "# 4) PCA\n",
        "k = min(int(COMPONENTS), Xn.shape[1])\n",
        "Xc = Xn - Xn.mean(0, keepdims=True)\n",
        "pca = PCA(n_components=k, svd_solver=\"auto\", whiten=False, random_state=0)\n",
        "pca.fit(Xc)\n",
        "proj = pca.transform(Xn)  # [N, k]\n",
        "\n",
        "print(\"\\nExplained variance per PC:\")\n",
        "for j, v in enumerate(pca.explained_variance_ratio_):\n",
        "    print(f\"  PC{j}: {v*100:.2f}%\")\n",
        "\n",
        "# 5) Show extremes for first few PCs\n",
        "m = min(int(SHOW_PCS), k)\n",
        "for pc_j in range(m):\n",
        "    pos_ids, neg_ids, scores = top_extremes(proj, pc_j, k=3)\n",
        "    print(f\"\\nPC{pc_j} extremes:\")\n",
        "    print(\"  most positive:\")\n",
        "    for idx in pos_ids:\n",
        "        print(f\"    {names[idx]}  score={scores[idx]:.4f}\")\n",
        "    print(\"  most negative:\")\n",
        "    for idx in neg_ids:\n",
        "        print(f\"    {names[idx]}  score={scores[idx]:.4f}\")\n",
        "\n",
        "# 6) (Optional) Save outputs\n",
        "if SAVE_OUTPUTS:\n",
        "    out = Path(OUT_DIR); out.mkdir(parents=True, exist_ok=True)\n",
        "    np.save(out/\"names.npy\", np.array(names, dtype=object))\n",
        "    np.save(out/\"X.npy\", Xn)                         # normalized embeddings\n",
        "    np.save(out/\"X_pca.npy\", proj)                   # projections [N, k]\n",
        "    np.save(out/\"pca_components.npy\", pca.components_)  # [k, D]\n",
        "    np.save(out/\"pca_mean.npy\", Xn.mean(0))\n",
        "    np.save(out/\"explained_var_ratio.npy\", pca.explained_variance_ratio_)\n",
        "    print(f\"\\nSaved PCA outputs to {out.resolve()}\")\n"
      ],
      "metadata": {
        "colab": {
          "base_uri": "https://localhost:8080/",
          "height": 129
        },
        "id": "JTGmEay3G-L0",
        "outputId": "c164916f-d6a7-4c64-c8a8-60504a26514e"
      },
      "execution_count": null,
      "outputs": [
        {
          "output_type": "error",
          "ename": "SystemExit",
          "evalue": "No .npy files found. Set EMBEDS_DIR to a folder or FILES to a list of .npy paths.",
          "traceback": [
            "An exception has occurred, use %tb to see the full traceback.\n",
            "\u001b[0;31mSystemExit\u001b[0m\u001b[0;31m:\u001b[0m No .npy files found. Set EMBEDS_DIR to a folder or FILES to a list of .npy paths.\n"
          ]
        },
        {
          "output_type": "stream",
          "name": "stderr",
          "text": [
            "/usr/local/lib/python3.12/dist-packages/IPython/core/interactiveshell.py:3561: UserWarning: To exit: use 'exit', 'quit', or Ctrl-D.\n",
            "  warn(\"To exit: use 'exit', 'quit', or Ctrl-D.\", stacklevel=1)\n"
          ]
        }
      ]
    }
  ],
  "metadata": {
    "accelerator": "GPU",
    "colab": {
      "gpuType": "T4",
      "provenance": []
    },
    "kernelspec": {
      "display_name": "Python 3",
      "name": "python3"
    },
    "language_info": {
      "name": "python"
    }
  },
  "nbformat": 4,
  "nbformat_minor": 0
}