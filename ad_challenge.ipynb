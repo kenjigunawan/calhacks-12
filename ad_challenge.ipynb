{
  "cells": [
    {
      "cell_type": "code",
      "execution_count": null,
      "metadata": {
        "colab": {
          "base_uri": "https://localhost:8080/"
        },
        "id": "ss68evVduaIX",
        "outputId": "f7e3b807-a256-41ce-def8-9aba983daeed"
      },
      "outputs": [
        {
          "output_type": "stream",
          "name": "stdout",
          "text": [
            "Python 3.12.12\n"
          ]
        }
      ],
      "source": [
        "!python --version"
      ]
    },
    {
      "cell_type": "code",
      "execution_count": null,
      "metadata": {
        "colab": {
          "base_uri": "https://localhost:8080/"
        },
        "id": "yvwZizc6rmUK",
        "outputId": "98a462f2-e332-44ed-a495-f2a21ff0424e"
      },
      "outputs": [
        {
          "output_type": "stream",
          "name": "stdout",
          "text": [
            "fatal: destination path 'ImageBind' already exists and is not an empty directory.\n"
          ]
        }
      ],
      "source": [
        "!git clone https://github.com/facebookresearch/ImageBind.git"
      ]
    },
    {
      "cell_type": "code",
      "execution_count": null,
      "metadata": {
        "colab": {
          "base_uri": "https://localhost:8080/"
        },
        "id": "Lu4IlXt39dkJ",
        "outputId": "c2a01454-50be-47e7-8857-258bce14d8e8"
      },
      "outputs": [
        {
          "output_type": "stream",
          "name": "stdout",
          "text": [
            "/content/ImageBind\n"
          ]
        }
      ],
      "source": [
        "%cd ./ImageBind"
      ]
    },
    {
      "cell_type": "code",
      "execution_count": null,
      "metadata": {
        "colab": {
          "base_uri": "https://localhost:8080/"
        },
        "id": "c063190b",
        "outputId": "2f291902-33b8-4deb-de0e-e9d317a60a42"
      },
      "outputs": [
        {
          "output_type": "stream",
          "name": "stdout",
          "text": [
            "Looking in links: https://storage.googleapis.com/libtpu-releases/index.html\n",
            "Requirement already satisfied: torch~=2.3 in /usr/local/lib/python3.12/dist-packages (2.8.0+cu126)\n",
            "Requirement already satisfied: torch_xla[tpu] in /usr/local/lib/python3.12/dist-packages (2.8.1)\n",
            "Requirement already satisfied: filelock in /usr/local/lib/python3.12/dist-packages (from torch~=2.3) (3.20.0)\n",
            "Requirement already satisfied: typing-extensions>=4.10.0 in /usr/local/lib/python3.12/dist-packages (from torch~=2.3) (4.15.0)\n",
            "Requirement already satisfied: setuptools in /usr/local/lib/python3.12/dist-packages (from torch~=2.3) (75.2.0)\n",
            "Requirement already satisfied: sympy>=1.13.3 in /usr/local/lib/python3.12/dist-packages (from torch~=2.3) (1.13.3)\n",
            "Requirement already satisfied: networkx in /usr/local/lib/python3.12/dist-packages (from torch~=2.3) (3.5)\n",
            "Requirement already satisfied: jinja2 in /usr/local/lib/python3.12/dist-packages (from torch~=2.3) (3.1.6)\n",
            "Requirement already satisfied: fsspec in /usr/local/lib/python3.12/dist-packages (from torch~=2.3) (2025.3.0)\n",
            "Requirement already satisfied: nvidia-cuda-nvrtc-cu12==12.6.77 in /usr/local/lib/python3.12/dist-packages (from torch~=2.3) (12.6.77)\n",
            "Requirement already satisfied: nvidia-cuda-runtime-cu12==12.6.77 in /usr/local/lib/python3.12/dist-packages (from torch~=2.3) (12.6.77)\n",
            "Requirement already satisfied: nvidia-cuda-cupti-cu12==12.6.80 in /usr/local/lib/python3.12/dist-packages (from torch~=2.3) (12.6.80)\n",
            "Requirement already satisfied: nvidia-cudnn-cu12==9.10.2.21 in /usr/local/lib/python3.12/dist-packages (from torch~=2.3) (9.10.2.21)\n",
            "Requirement already satisfied: nvidia-cublas-cu12==12.6.4.1 in /usr/local/lib/python3.12/dist-packages (from torch~=2.3) (12.6.4.1)\n",
            "Requirement already satisfied: nvidia-cufft-cu12==11.3.0.4 in /usr/local/lib/python3.12/dist-packages (from torch~=2.3) (11.3.0.4)\n",
            "Requirement already satisfied: nvidia-curand-cu12==10.3.7.77 in /usr/local/lib/python3.12/dist-packages (from torch~=2.3) (10.3.7.77)\n",
            "Requirement already satisfied: nvidia-cusolver-cu12==11.7.1.2 in /usr/local/lib/python3.12/dist-packages (from torch~=2.3) (11.7.1.2)\n",
            "Requirement already satisfied: nvidia-cusparse-cu12==12.5.4.2 in /usr/local/lib/python3.12/dist-packages (from torch~=2.3) (12.5.4.2)\n",
            "Requirement already satisfied: nvidia-cusparselt-cu12==0.7.1 in /usr/local/lib/python3.12/dist-packages (from torch~=2.3) (0.7.1)\n",
            "Requirement already satisfied: nvidia-nccl-cu12==2.27.3 in /usr/local/lib/python3.12/dist-packages (from torch~=2.3) (2.27.3)\n",
            "Requirement already satisfied: nvidia-nvtx-cu12==12.6.77 in /usr/local/lib/python3.12/dist-packages (from torch~=2.3) (12.6.77)\n",
            "Requirement already satisfied: nvidia-nvjitlink-cu12==12.6.85 in /usr/local/lib/python3.12/dist-packages (from torch~=2.3) (12.6.85)\n",
            "Requirement already satisfied: nvidia-cufile-cu12==1.11.1.6 in /usr/local/lib/python3.12/dist-packages (from torch~=2.3) (1.11.1.6)\n",
            "Requirement already satisfied: triton==3.4.0 in /usr/local/lib/python3.12/dist-packages (from torch~=2.3) (3.4.0)\n",
            "Requirement already satisfied: absl-py>=1.0.0 in /usr/local/lib/python3.12/dist-packages (from torch_xla[tpu]) (1.4.0)\n",
            "Requirement already satisfied: numpy in /usr/local/lib/python3.12/dist-packages (from torch_xla[tpu]) (2.0.2)\n",
            "Requirement already satisfied: pyyaml in /usr/local/lib/python3.12/dist-packages (from torch_xla[tpu]) (6.0.3)\n",
            "Requirement already satisfied: requests in /usr/local/lib/python3.12/dist-packages (from torch_xla[tpu]) (2.32.4)\n",
            "Requirement already satisfied: libtpu==0.0.17 in /usr/local/lib/python3.12/dist-packages (from torch_xla[tpu]) (0.0.17)\n",
            "Requirement already satisfied: tpu-info in /usr/local/lib/python3.12/dist-packages (from torch_xla[tpu]) (0.6.0)\n",
            "Requirement already satisfied: mpmath<1.4,>=1.1.0 in /usr/local/lib/python3.12/dist-packages (from sympy>=1.13.3->torch~=2.3) (1.3.0)\n",
            "Requirement already satisfied: MarkupSafe>=2.0 in /usr/local/lib/python3.12/dist-packages (from jinja2->torch~=2.3) (3.0.3)\n",
            "Requirement already satisfied: charset_normalizer<4,>=2 in /usr/local/lib/python3.12/dist-packages (from requests->torch_xla[tpu]) (3.4.4)\n",
            "Requirement already satisfied: idna<4,>=2.5 in /usr/local/lib/python3.12/dist-packages (from requests->torch_xla[tpu]) (3.11)\n",
            "Requirement already satisfied: urllib3<3,>=1.21.1 in /usr/local/lib/python3.12/dist-packages (from requests->torch_xla[tpu]) (2.5.0)\n",
            "Requirement already satisfied: certifi>=2017.4.17 in /usr/local/lib/python3.12/dist-packages (from requests->torch_xla[tpu]) (2025.10.5)\n",
            "Requirement already satisfied: grpcio>=1.65.5 in /usr/local/lib/python3.12/dist-packages (from tpu-info->torch_xla[tpu]) (1.75.1)\n",
            "Requirement already satisfied: packaging in /usr/local/lib/python3.12/dist-packages (from tpu-info->torch_xla[tpu]) (25.0)\n",
            "Requirement already satisfied: protobuf in /usr/local/lib/python3.12/dist-packages (from tpu-info->torch_xla[tpu]) (5.29.5)\n",
            "Requirement already satisfied: rich in /usr/local/lib/python3.12/dist-packages (from tpu-info->torch_xla[tpu]) (13.9.4)\n",
            "Requirement already satisfied: markdown-it-py>=2.2.0 in /usr/local/lib/python3.12/dist-packages (from rich->tpu-info->torch_xla[tpu]) (4.0.0)\n",
            "Requirement already satisfied: pygments<3.0.0,>=2.13.0 in /usr/local/lib/python3.12/dist-packages (from rich->tpu-info->torch_xla[tpu]) (2.19.2)\n",
            "Requirement already satisfied: mdurl~=0.1 in /usr/local/lib/python3.12/dist-packages (from markdown-it-py>=2.2.0->rich->tpu-info->torch_xla[tpu]) (0.1.2)\n"
          ]
        }
      ],
      "source": [
        "# Install PyTorch with TPU support\n",
        "!pip install torch~=2.3 torch_xla[tpu] -f https://storage.googleapis.com/libtpu-releases/index.html"
      ]
    },
    {
      "cell_type": "code",
      "execution_count": null,
      "metadata": {
        "colab": {
          "base_uri": "https://localhost:8080/"
        },
        "id": "zzYlYDFpuSkw",
        "outputId": "9933b05a-b3fc-43aa-b1be-1a11c23fcc4d"
      },
      "outputs": [
        {
          "output_type": "stream",
          "name": "stdout",
          "text": [
            "Processing /content/ImageBind\n",
            "  Preparing metadata (setup.py) ... \u001b[?25l\u001b[?25hdone\n",
            "Collecting pytorchvideo@ git+https://github.com/facebookresearch/pytorchvideo.git@6cdc929315aab1b5674b6dcf73b16ec99147735f (from imagebind==0.1.0)\n",
            "  Using cached pytorchvideo-0.1.5-py3-none-any.whl\n",
            "Requirement already satisfied: torch>=2.0.0 in /usr/local/lib/python3.12/dist-packages (from imagebind==0.1.0) (2.8.0+cu126)\n",
            "Requirement already satisfied: torchvision in /usr/local/lib/python3.12/dist-packages (from imagebind==0.1.0) (0.23.0+cu126)\n",
            "Requirement already satisfied: torchaudio in /usr/local/lib/python3.12/dist-packages (from imagebind==0.1.0) (2.8.0+cu126)\n",
            "Requirement already satisfied: timm in /usr/local/lib/python3.12/dist-packages (from imagebind==0.1.0) (1.0.20)\n",
            "Requirement already satisfied: ftfy in /usr/local/lib/python3.12/dist-packages (from imagebind==0.1.0) (6.3.1)\n",
            "Requirement already satisfied: regex in /usr/local/lib/python3.12/dist-packages (from imagebind==0.1.0) (2024.11.6)\n",
            "Requirement already satisfied: einops in /usr/local/lib/python3.12/dist-packages (from imagebind==0.1.0) (0.8.1)\n",
            "Requirement already satisfied: iopath in /usr/local/lib/python3.12/dist-packages (from imagebind==0.1.0) (0.1.10)\n",
            "Requirement already satisfied: numpy>=1.19 in /usr/local/lib/python3.12/dist-packages (from imagebind==0.1.0) (2.0.2)\n",
            "Requirement already satisfied: types-regex in /usr/local/lib/python3.12/dist-packages (from imagebind==0.1.0) (2025.10.23.20251023)\n",
            "Requirement already satisfied: filelock in /usr/local/lib/python3.12/dist-packages (from torch>=2.0.0->imagebind==0.1.0) (3.20.0)\n",
            "Requirement already satisfied: typing-extensions>=4.10.0 in /usr/local/lib/python3.12/dist-packages (from torch>=2.0.0->imagebind==0.1.0) (4.15.0)\n",
            "Requirement already satisfied: setuptools in /usr/local/lib/python3.12/dist-packages (from torch>=2.0.0->imagebind==0.1.0) (75.2.0)\n",
            "Requirement already satisfied: sympy>=1.13.3 in /usr/local/lib/python3.12/dist-packages (from torch>=2.0.0->imagebind==0.1.0) (1.13.3)\n",
            "Requirement already satisfied: networkx in /usr/local/lib/python3.12/dist-packages (from torch>=2.0.0->imagebind==0.1.0) (3.5)\n",
            "Requirement already satisfied: jinja2 in /usr/local/lib/python3.12/dist-packages (from torch>=2.0.0->imagebind==0.1.0) (3.1.6)\n",
            "Requirement already satisfied: fsspec in /usr/local/lib/python3.12/dist-packages (from torch>=2.0.0->imagebind==0.1.0) (2025.3.0)\n",
            "Requirement already satisfied: nvidia-cuda-nvrtc-cu12==12.6.77 in /usr/local/lib/python3.12/dist-packages (from torch>=2.0.0->imagebind==0.1.0) (12.6.77)\n",
            "Requirement already satisfied: nvidia-cuda-runtime-cu12==12.6.77 in /usr/local/lib/python3.12/dist-packages (from torch>=2.0.0->imagebind==0.1.0) (12.6.77)\n",
            "Requirement already satisfied: nvidia-cuda-cupti-cu12==12.6.80 in /usr/local/lib/python3.12/dist-packages (from torch>=2.0.0->imagebind==0.1.0) (12.6.80)\n",
            "Requirement already satisfied: nvidia-cudnn-cu12==9.10.2.21 in /usr/local/lib/python3.12/dist-packages (from torch>=2.0.0->imagebind==0.1.0) (9.10.2.21)\n",
            "Requirement already satisfied: nvidia-cublas-cu12==12.6.4.1 in /usr/local/lib/python3.12/dist-packages (from torch>=2.0.0->imagebind==0.1.0) (12.6.4.1)\n",
            "Requirement already satisfied: nvidia-cufft-cu12==11.3.0.4 in /usr/local/lib/python3.12/dist-packages (from torch>=2.0.0->imagebind==0.1.0) (11.3.0.4)\n",
            "Requirement already satisfied: nvidia-curand-cu12==10.3.7.77 in /usr/local/lib/python3.12/dist-packages (from torch>=2.0.0->imagebind==0.1.0) (10.3.7.77)\n",
            "Requirement already satisfied: nvidia-cusolver-cu12==11.7.1.2 in /usr/local/lib/python3.12/dist-packages (from torch>=2.0.0->imagebind==0.1.0) (11.7.1.2)\n",
            "Requirement already satisfied: nvidia-cusparse-cu12==12.5.4.2 in /usr/local/lib/python3.12/dist-packages (from torch>=2.0.0->imagebind==0.1.0) (12.5.4.2)\n",
            "Requirement already satisfied: nvidia-cusparselt-cu12==0.7.1 in /usr/local/lib/python3.12/dist-packages (from torch>=2.0.0->imagebind==0.1.0) (0.7.1)\n",
            "Requirement already satisfied: nvidia-nccl-cu12==2.27.3 in /usr/local/lib/python3.12/dist-packages (from torch>=2.0.0->imagebind==0.1.0) (2.27.3)\n",
            "Requirement already satisfied: nvidia-nvtx-cu12==12.6.77 in /usr/local/lib/python3.12/dist-packages (from torch>=2.0.0->imagebind==0.1.0) (12.6.77)\n",
            "Requirement already satisfied: nvidia-nvjitlink-cu12==12.6.85 in /usr/local/lib/python3.12/dist-packages (from torch>=2.0.0->imagebind==0.1.0) (12.6.85)\n",
            "Requirement already satisfied: nvidia-cufile-cu12==1.11.1.6 in /usr/local/lib/python3.12/dist-packages (from torch>=2.0.0->imagebind==0.1.0) (1.11.1.6)\n",
            "Requirement already satisfied: triton==3.4.0 in /usr/local/lib/python3.12/dist-packages (from torch>=2.0.0->imagebind==0.1.0) (3.4.0)\n",
            "Requirement already satisfied: wcwidth in /usr/local/lib/python3.12/dist-packages (from ftfy->imagebind==0.1.0) (0.2.14)\n",
            "Requirement already satisfied: tqdm in /usr/local/lib/python3.12/dist-packages (from iopath->imagebind==0.1.0) (4.67.1)\n",
            "Requirement already satisfied: portalocker in /usr/local/lib/python3.12/dist-packages (from iopath->imagebind==0.1.0) (3.2.0)\n",
            "Requirement already satisfied: fvcore in /usr/local/lib/python3.12/dist-packages (from pytorchvideo@ git+https://github.com/facebookresearch/pytorchvideo.git@6cdc929315aab1b5674b6dcf73b16ec99147735f->imagebind==0.1.0) (0.1.5.post20221221)\n",
            "Requirement already satisfied: av in /usr/local/lib/python3.12/dist-packages (from pytorchvideo@ git+https://github.com/facebookresearch/pytorchvideo.git@6cdc929315aab1b5674b6dcf73b16ec99147735f->imagebind==0.1.0) (16.0.1)\n",
            "Requirement already satisfied: parameterized in /usr/local/lib/python3.12/dist-packages (from pytorchvideo@ git+https://github.com/facebookresearch/pytorchvideo.git@6cdc929315aab1b5674b6dcf73b16ec99147735f->imagebind==0.1.0) (0.9.0)\n",
            "Requirement already satisfied: pyyaml in /usr/local/lib/python3.12/dist-packages (from timm->imagebind==0.1.0) (6.0.3)\n",
            "Requirement already satisfied: huggingface_hub in /usr/local/lib/python3.12/dist-packages (from timm->imagebind==0.1.0) (0.35.3)\n",
            "Requirement already satisfied: safetensors in /usr/local/lib/python3.12/dist-packages (from timm->imagebind==0.1.0) (0.6.2)\n",
            "Requirement already satisfied: pillow!=8.3.*,>=5.3.0 in /usr/local/lib/python3.12/dist-packages (from torchvision->imagebind==0.1.0) (11.3.0)\n",
            "Requirement already satisfied: mpmath<1.4,>=1.1.0 in /usr/local/lib/python3.12/dist-packages (from sympy>=1.13.3->torch>=2.0.0->imagebind==0.1.0) (1.3.0)\n",
            "Requirement already satisfied: yacs>=0.1.6 in /usr/local/lib/python3.12/dist-packages (from fvcore->pytorchvideo@ git+https://github.com/facebookresearch/pytorchvideo.git@6cdc929315aab1b5674b6dcf73b16ec99147735f->imagebind==0.1.0) (0.1.8)\n",
            "Requirement already satisfied: termcolor>=1.1 in /usr/local/lib/python3.12/dist-packages (from fvcore->pytorchvideo@ git+https://github.com/facebookresearch/pytorchvideo.git@6cdc929315aab1b5674b6dcf73b16ec99147735f->imagebind==0.1.0) (3.1.0)\n",
            "Requirement already satisfied: tabulate in /usr/local/lib/python3.12/dist-packages (from fvcore->pytorchvideo@ git+https://github.com/facebookresearch/pytorchvideo.git@6cdc929315aab1b5674b6dcf73b16ec99147735f->imagebind==0.1.0) (0.9.0)\n",
            "Requirement already satisfied: packaging>=20.9 in /usr/local/lib/python3.12/dist-packages (from huggingface_hub->timm->imagebind==0.1.0) (25.0)\n",
            "Requirement already satisfied: requests in /usr/local/lib/python3.12/dist-packages (from huggingface_hub->timm->imagebind==0.1.0) (2.32.4)\n",
            "Requirement already satisfied: hf-xet<2.0.0,>=1.1.3 in /usr/local/lib/python3.12/dist-packages (from huggingface_hub->timm->imagebind==0.1.0) (1.1.10)\n",
            "Requirement already satisfied: MarkupSafe>=2.0 in /usr/local/lib/python3.12/dist-packages (from jinja2->torch>=2.0.0->imagebind==0.1.0) (3.0.3)\n",
            "Requirement already satisfied: charset_normalizer<4,>=2 in /usr/local/lib/python3.12/dist-packages (from requests->huggingface_hub->timm->imagebind==0.1.0) (3.4.4)\n",
            "Requirement already satisfied: idna<4,>=2.5 in /usr/local/lib/python3.12/dist-packages (from requests->huggingface_hub->timm->imagebind==0.1.0) (3.11)\n",
            "Requirement already satisfied: urllib3<3,>=1.21.1 in /usr/local/lib/python3.12/dist-packages (from requests->huggingface_hub->timm->imagebind==0.1.0) (2.5.0)\n",
            "Requirement already satisfied: certifi>=2017.4.17 in /usr/local/lib/python3.12/dist-packages (from requests->huggingface_hub->timm->imagebind==0.1.0) (2025.10.5)\n",
            "Building wheels for collected packages: imagebind\n",
            "  Building wheel for imagebind (setup.py) ... \u001b[?25l\u001b[?25hdone\n",
            "  Created wheel for imagebind: filename=imagebind-0.1.0-py3-none-any.whl size=1385592 sha256=4c23b9aa388b3246637e25c987b0b29387835c1ac30d0223dd6a74f62b0f9b5a\n",
            "  Stored in directory: /tmp/pip-ephem-wheel-cache-i7kfi8ck/wheels/09/6b/b8/2f3b0adfbc0a97c03fd8d07f41806ebae57d614fffbf48c13e\n",
            "Successfully built imagebind\n",
            "Installing collected packages: imagebind\n",
            "  Attempting uninstall: imagebind\n",
            "    Found existing installation: imagebind 0.1.0\n",
            "    Uninstalling imagebind-0.1.0:\n",
            "      Successfully uninstalled imagebind-0.1.0\n",
            "Successfully installed imagebind-0.1.0\n"
          ]
        }
      ],
      "source": [
        "!pip install ."
      ]
    },
    {
      "cell_type": "code",
      "source": [
        "!pip install decord"
      ],
      "metadata": {
        "colab": {
          "base_uri": "https://localhost:8080/"
        },
        "id": "08WZs_O2gTUV",
        "outputId": "6c08e473-a189-44fb-f43b-06f3ce955b10"
      },
      "execution_count": null,
      "outputs": [
        {
          "output_type": "stream",
          "name": "stdout",
          "text": [
            "Requirement already satisfied: decord in /usr/local/lib/python3.12/dist-packages (0.6.0)\n",
            "Requirement already satisfied: numpy>=1.14.0 in /usr/local/lib/python3.12/dist-packages (from decord) (2.0.2)\n"
          ]
        }
      ]
    },
    {
      "cell_type": "code",
      "execution_count": null,
      "metadata": {
        "colab": {
          "base_uri": "https://localhost:8080/"
        },
        "id": "SDLihQ8l9aUW",
        "outputId": "de47b23f-f742-40ae-f3fb-f068a4e1ab21"
      },
      "outputs": [
        {
          "output_type": "stream",
          "name": "stdout",
          "text": [
            "build\t\t    imagebind\t\tmodel_card.md\t  setup.py\n",
            "CODE_OF_CONDUCT.md  imagebind.egg-info\tREADME.md\n",
            "CONTRIBUTING.md     LICENSE\t\trequirements.txt\n"
          ]
        }
      ],
      "source": [
        "!ls"
      ]
    },
    {
      "cell_type": "code",
      "execution_count": null,
      "metadata": {
        "colab": {
          "base_uri": "https://localhost:8080/",
          "height": 548
        },
        "id": "6f634dd9",
        "outputId": "71431986-65cc-471c-8234-dc369aa32353"
      },
      "outputs": [
        {
          "output_type": "error",
          "ename": "ImportError",
          "evalue": "/usr/local/lib/python3.12/dist-packages/_XLAC.cpython-312-x86_64-linux-gnu.so: undefined symbol: _ZN3c104cuda10set_deviceEa",
          "traceback": [
            "\u001b[0;31m---------------------------------------------------------------------------\u001b[0m",
            "\u001b[0;31mImportError\u001b[0m                               Traceback (most recent call last)",
            "\u001b[0;32m/tmp/ipython-input-1230509238.py\u001b[0m in \u001b[0;36m<cell line: 0>\u001b[0;34m()\u001b[0m\n\u001b[1;32m      1\u001b[0m \u001b[0;31m# Verify PyTorch and TPU installation\u001b[0m\u001b[0;34m\u001b[0m\u001b[0;34m\u001b[0m\u001b[0m\n\u001b[1;32m      2\u001b[0m \u001b[0;32mimport\u001b[0m \u001b[0mtorch\u001b[0m\u001b[0;34m\u001b[0m\u001b[0;34m\u001b[0m\u001b[0m\n\u001b[0;32m----> 3\u001b[0;31m \u001b[0;32mimport\u001b[0m \u001b[0mtorch_xla\u001b[0m\u001b[0;34m.\u001b[0m\u001b[0mcore\u001b[0m\u001b[0;34m.\u001b[0m\u001b[0mxla_model\u001b[0m \u001b[0;32mas\u001b[0m \u001b[0mxm\u001b[0m\u001b[0;34m\u001b[0m\u001b[0;34m\u001b[0m\u001b[0m\n\u001b[0m\u001b[1;32m      4\u001b[0m \u001b[0;34m\u001b[0m\u001b[0m\n\u001b[1;32m      5\u001b[0m \u001b[0mprint\u001b[0m\u001b[0;34m(\u001b[0m\u001b[0;34mf\"PyTorch version: {torch.__version__}\"\u001b[0m\u001b[0;34m)\u001b[0m\u001b[0;34m\u001b[0m\u001b[0;34m\u001b[0m\u001b[0m\n",
            "\u001b[0;32m/usr/local/lib/python3.12/dist-packages/torch_xla/__init__.py\u001b[0m in \u001b[0;36m<module>\u001b[0;34m\u001b[0m\n\u001b[1;32m     18\u001b[0m   \u001b[0msys\u001b[0m\u001b[0;34m.\u001b[0m\u001b[0msetdlopenflags\u001b[0m\u001b[0;34m(\u001b[0m\u001b[0mflags\u001b[0m\u001b[0;34m)\u001b[0m\u001b[0;34m\u001b[0m\u001b[0;34m\u001b[0m\u001b[0m\n\u001b[1;32m     19\u001b[0m \u001b[0;34m\u001b[0m\u001b[0m\n\u001b[0;32m---> 20\u001b[0;31m \u001b[0;32mimport\u001b[0m \u001b[0m_XLAC\u001b[0m\u001b[0;34m\u001b[0m\u001b[0;34m\u001b[0m\u001b[0m\n\u001b[0m\u001b[1;32m     21\u001b[0m \u001b[0;32mfrom\u001b[0m \u001b[0;34m.\u001b[0m\u001b[0m_internal\u001b[0m \u001b[0;32mimport\u001b[0m \u001b[0mtpu\u001b[0m\u001b[0;34m\u001b[0m\u001b[0;34m\u001b[0m\u001b[0m\n\u001b[1;32m     22\u001b[0m \u001b[0;32mfrom\u001b[0m \u001b[0;34m.\u001b[0m\u001b[0mversion\u001b[0m \u001b[0;32mimport\u001b[0m \u001b[0m__version__\u001b[0m\u001b[0;34m\u001b[0m\u001b[0;34m\u001b[0m\u001b[0m\n",
            "\u001b[0;31mImportError\u001b[0m: /usr/local/lib/python3.12/dist-packages/_XLAC.cpython-312-x86_64-linux-gnu.so: undefined symbol: _ZN3c104cuda10set_deviceEa",
            "",
            "\u001b[0;31m---------------------------------------------------------------------------\u001b[0;32m\nNOTE: If your import is failing due to a missing package, you can\nmanually install dependencies using either !pip or !apt.\n\nTo view examples of installing some common dependencies, click the\n\"Open Examples\" button below.\n\u001b[0;31m---------------------------------------------------------------------------\u001b[0m\n"
          ],
          "errorDetails": {
            "actions": [
              {
                "action": "open_url",
                "actionText": "Open Examples",
                "url": "/notebooks/snippets/importing_libraries.ipynb"
              }
            ]
          }
        }
      ],
      "source": [
        "# Verify PyTorch and TPU installation\n",
        "# import torch\n",
        "# import torch_xla.core.xla_model as xm\n",
        "\n",
        "# print(f\"PyTorch version: {torch.__version__}\")\n",
        "# print(f\"TPU device: {xm.xla_device()}\")"
      ]
    },
    {
      "cell_type": "code",
      "execution_count": null,
      "metadata": {
        "colab": {
          "base_uri": "https://localhost:8080/"
        },
        "id": "9xoMa3F2Tzxc",
        "outputId": "5cb9bf33-ce4e-4b35-f9a4-b56d390f04a0"
      },
      "outputs": [
        {
          "output_type": "stream",
          "name": "stdout",
          "text": [
            "\rdataset.zip           0%[                    ]       0  --.-KB/s               \rdataset.zip         100%[===================>]   2.36K  --.-KB/s    in 0s      \n"
          ]
        }
      ],
      "source": [
        "# Using wget to download from Google Drive (append &export=download to the URL)\n",
        "# !wget -q --show-progress \"https://drive.google.com/file/d/1DDj8l59RyEoE2zeeYAqfg9wHiiZehUfg/view?usp=drive_link&export=download\"   -O dataset.zip\n",
        "!wget -q --show-progress \"https://docs.google.com/uc?export=download&id=1DDj8l59RyEoE2zeeYAqfg9wHiiZehUfg\" -O dataset.zip\n"
      ]
    },
    {
      "cell_type": "code",
      "source": [
        "# In a Colab cell\n",
        "\n",
        "FILE_ID=\"1DDj8l59RyEoE2zeeYAqfg9wHiiZehUfg\"\n",
        "OUT=\"dataset.zip\"\n",
        "\n",
        "# Step 1: fetch the confirm token while saving cookies\n",
        "!(confirm=$(wget -q --save-cookies /tmp/cookies.txt --keep-session-cookies --no-check-certificate \\\n",
        "  \"https://docs.google.com/uc?export=download&id=${FILE_ID}\" -O- | \\\n",
        "  sed -rn 's/.*confirm=([0-9A-Za-z_]+).*/\\1/p'))\n",
        "\n",
        "# Step 2: download with the token and cookies\n",
        "!(wget -q --show-progress --load-cookies /tmp/cookies.txt \\\n",
        "  \"https://docs.google.com/uc?export=download&confirm=${confirm}&id=${FILE_ID}\" \\\n",
        "  -O \"${OUT}\")"
      ],
      "metadata": {
        "colab": {
          "base_uri": "https://localhost:8080/"
        },
        "id": "H1FIilc6ZK48",
        "outputId": "c8bb46d7-71b3-4475-b490-c98e5530ba8b"
      },
      "execution_count": null,
      "outputs": [
        {
          "output_type": "stream",
          "name": "stdout",
          "text": [
            "No such file or directory\n"
          ]
        }
      ]
    },
    {
      "cell_type": "code",
      "source": [
        "!cp ../drive/MyDrive/ads-copy.zip ./"
      ],
      "metadata": {
        "id": "uIhcp39yZ7V_"
      },
      "execution_count": null,
      "outputs": []
    },
    {
      "cell_type": "code",
      "source": [
        "!unzip ads-copy.zip"
      ],
      "metadata": {
        "colab": {
          "base_uri": "https://localhost:8080/"
        },
        "id": "m9xJ6r0ka0Ep",
        "outputId": "4f4ed997-b8f6-42ae-8295-79bbe9e69f0b"
      },
      "execution_count": null,
      "outputs": [
        {
          "output_type": "stream",
          "name": "stdout",
          "text": [
            "Archive:  ads-copy.zip\n",
            "   creating: ads/\n",
            "  inflating: ads/.DS_Store           \n",
            "  inflating: __MACOSX/ads/._.DS_Store  \n",
            "   creating: ads/images/\n",
            "   creating: ads/videos/\n",
            "  inflating: ads/images/i0018.png    \n",
            "  inflating: __MACOSX/ads/images/._i0018.png  \n",
            "  inflating: ads/images/i0009.png    \n",
            "  inflating: __MACOSX/ads/images/._i0009.png  \n",
            "  inflating: ads/images/i0008.png    \n",
            "  inflating: __MACOSX/ads/images/._i0008.png  \n",
            "  inflating: ads/images/i0006.png    \n",
            "  inflating: __MACOSX/ads/images/._i0006.png  \n",
            "  inflating: ads/images/i0012.png    \n",
            "  inflating: __MACOSX/ads/images/._i0012.png  \n",
            "  inflating: ads/images/i0013.png    \n",
            "  inflating: __MACOSX/ads/images/._i0013.png  \n",
            "  inflating: ads/images/i0007.png    \n",
            "  inflating: __MACOSX/ads/images/._i0007.png  \n",
            "  inflating: ads/images/i0011.png    \n",
            "  inflating: __MACOSX/ads/images/._i0011.png  \n",
            "  inflating: ads/images/i0005.png    \n",
            "  inflating: __MACOSX/ads/images/._i0005.png  \n",
            "  inflating: ads/images/i0004.png    \n",
            "  inflating: __MACOSX/ads/images/._i0004.png  \n",
            "  inflating: ads/images/i0010.png    \n",
            "  inflating: __MACOSX/ads/images/._i0010.png  \n",
            "  inflating: ads/images/i0014.png    \n",
            "  inflating: __MACOSX/ads/images/._i0014.png  \n",
            "  inflating: ads/images/i0001.png    \n",
            "  inflating: __MACOSX/ads/images/._i0001.png  \n",
            "  inflating: ads/images/i0015.png    \n",
            "  inflating: __MACOSX/ads/images/._i0015.png  \n",
            "  inflating: ads/images/i0003.png    \n",
            "  inflating: __MACOSX/ads/images/._i0003.png  \n",
            "  inflating: ads/images/i0017.png    \n",
            "  inflating: __MACOSX/ads/images/._i0017.png  \n",
            "  inflating: ads/images/i0016.png    \n",
            "  inflating: __MACOSX/ads/images/._i0016.png  \n",
            "  inflating: ads/images/i0002.png    \n",
            "  inflating: __MACOSX/ads/images/._i0002.png  \n",
            "  inflating: ads/videos/v0005.mp4    \n",
            "  inflating: __MACOSX/ads/videos/._v0005.mp4  \n",
            "  inflating: ads/videos/v0011.mp4    \n",
            "  inflating: __MACOSX/ads/videos/._v0011.mp4  \n",
            "  inflating: ads/videos/v0010.mp4    \n",
            "  inflating: __MACOSX/ads/videos/._v0010.mp4  \n",
            "  inflating: ads/videos/v0004.mp4    \n",
            "  inflating: __MACOSX/ads/videos/._v0004.mp4  \n",
            "  inflating: ads/videos/v0012.mp4    \n",
            "  inflating: __MACOSX/ads/videos/._v0012.mp4  \n",
            "  inflating: ads/videos/v0006.mp4    \n",
            "  inflating: __MACOSX/ads/videos/._v0006.mp4  \n",
            "  inflating: ads/videos/v0007.mp4    \n",
            "  inflating: __MACOSX/ads/videos/._v0007.mp4  \n",
            "  inflating: ads/videos/v0013.mp4    \n",
            "  inflating: __MACOSX/ads/videos/._v0013.mp4  \n",
            "  inflating: ads/videos/v0017.mp4    \n",
            "  inflating: __MACOSX/ads/videos/._v0017.mp4  \n",
            "  inflating: ads/videos/v0003.mp4    \n",
            "  inflating: __MACOSX/ads/videos/._v0003.mp4  \n",
            "  inflating: ads/videos/v0002.mp4    \n",
            "  inflating: __MACOSX/ads/videos/._v0002.mp4  \n",
            "  inflating: ads/videos/v0016.mp4    \n",
            "  inflating: __MACOSX/ads/videos/._v0016.mp4  \n",
            "  inflating: ads/videos/v0014.mp4    \n",
            "  inflating: __MACOSX/ads/videos/._v0014.mp4  \n",
            "  inflating: ads/videos/v0015.mp4    \n",
            "  inflating: __MACOSX/ads/videos/._v0015.mp4  \n",
            "  inflating: ads/videos/v0001.mp4    \n",
            "  inflating: __MACOSX/ads/videos/._v0001.mp4  \n",
            "  inflating: ads/videos/v0018.mp4    \n",
            "  inflating: __MACOSX/ads/videos/._v0018.mp4  \n",
            "  inflating: ads/videos/v0019.mp4    \n",
            "  inflating: __MACOSX/ads/videos/._v0019.mp4  \n",
            "  inflating: ads/videos/v0022.mp4    \n",
            "  inflating: __MACOSX/ads/videos/._v0022.mp4  \n",
            "  inflating: ads/videos/v0023.mp4    \n",
            "  inflating: __MACOSX/ads/videos/._v0023.mp4  \n",
            "  inflating: ads/videos/v0021.mp4    \n",
            "  inflating: __MACOSX/ads/videos/._v0021.mp4  \n",
            "  inflating: ads/videos/v0009.mp4    \n",
            "  inflating: __MACOSX/ads/videos/._v0009.mp4  \n",
            "  inflating: ads/videos/v0008.mp4    \n",
            "  inflating: __MACOSX/ads/videos/._v0008.mp4  \n",
            "  inflating: ads/videos/v0020.mp4    \n",
            "  inflating: __MACOSX/ads/videos/._v0020.mp4  \n"
          ]
        }
      ]
    },
    {
      "cell_type": "code",
      "metadata": {
        "colab": {
          "base_uri": "https://localhost:8080/"
        },
        "id": "2bd32c96",
        "outputId": "ec11a70d-25ef-4555-c45b-edeb5020430f"
      },
      "source": [
        "from google.colab import drive\n",
        "drive.mount('/content/drive')"
      ],
      "execution_count": null,
      "outputs": [
        {
          "output_type": "stream",
          "name": "stdout",
          "text": [
            "Drive already mounted at /content/drive; to attempt to forcibly remount, call drive.mount(\"/content/drive\", force_remount=True).\n"
          ]
        }
      ]
    },
    {
      "cell_type": "code",
      "source": [],
      "metadata": {
        "id": "X8HPtS_-bcrF"
      },
      "execution_count": null,
      "outputs": []
    },
    {
      "cell_type": "code",
      "metadata": {
        "id": "8a8374a5"
      },
      "source": [
        "import os\n",
        "\n",
        "def list_files_in_directory(directory_path):\n",
        "  \"\"\"\n",
        "  Lists all files in a given directory.\n",
        "\n",
        "  Args:\n",
        "    directory_path: The path to the directory.\n",
        "\n",
        "  Returns:\n",
        "    A list of file paths within the directory.\n",
        "  \"\"\"\n",
        "  file_list = []\n",
        "  for filename in os.listdir(directory_path):\n",
        "    file_path = os.path.join(directory_path, filename)\n",
        "    if os.path.isfile(file_path):\n",
        "      file_list.append(file_path)\n",
        "  return file_list\n",
        "\n",
        "# Example usage:\n",
        "video_path = list_files_in_directory('./ads/videos')\n",
        "image_path = list_files_in_directory('./ads/images')\n",
        "\n",
        "# print(my_files)"
      ],
      "execution_count": null,
      "outputs": []
    },
    {
      "cell_type": "code",
      "source": [
        "print(image_path)\n",
        "print(video_path)"
      ],
      "metadata": {
        "colab": {
          "base_uri": "https://localhost:8080/"
        },
        "id": "YTlk_8rCfhE8",
        "outputId": "7bc40962-da48-4e31-818a-7ac78d73ad10"
      },
      "execution_count": null,
      "outputs": [
        {
          "output_type": "stream",
          "name": "stdout",
          "text": [
            "['./ads/images/i0006.png', './ads/images/i0017.png', './ads/images/i0004.png', './ads/images/i0015.png', './ads/images/i0018.png', './ads/images/i0002.png', './ads/images/i0012.png', './ads/images/i0016.png', './ads/images/i0014.png', './ads/images/i0001.png', './ads/images/i0009.png', './ads/images/i0003.png', './ads/images/i0011.png', './ads/images/i0010.png', './ads/images/i0008.png', './ads/images/i0005.png', './ads/images/i0013.png', './ads/images/i0007.png']\n",
            "['./ads/videos/v0007.mp4', './ads/videos/v0022.mp4', './ads/videos/v0002.mp4', './ads/videos/v0011.mp4', './ads/videos/v0019.mp4', './ads/videos/v0016.mp4', './ads/videos/v0014.mp4', './ads/videos/v0001.mp4', './ads/videos/v0003.mp4', './ads/videos/v0012.mp4', './ads/videos/v0009.mp4', './ads/videos/v0005.mp4', './ads/videos/v0013.mp4', './ads/videos/v0021.mp4', './ads/videos/v0010.mp4', './ads/videos/v0004.mp4', './ads/videos/v0017.mp4', './ads/videos/v0023.mp4', './ads/videos/v0015.mp4', './ads/videos/v0020.mp4', './ads/videos/v0008.mp4', './ads/videos/v0018.mp4', './ads/videos/v0006.mp4']\n"
          ]
        }
      ]
    },
    {
      "cell_type": "code",
      "metadata": {
        "colab": {
          "base_uri": "https://localhost:8080/"
        },
        "id": "1ab1815e",
        "outputId": "5876268f-c81b-4a3f-b998-41bb6b44ab23"
      },
      "source": [
        "import torch\n",
        "\n",
        "if torch.cuda.is_available():\n",
        "    print(\"CUDA is available. Using GPU.\")\n",
        "else:\n",
        "    print(\"CUDA is not available. Using CPU.\")"
      ],
      "execution_count": null,
      "outputs": [
        {
          "output_type": "stream",
          "name": "stdout",
          "text": [
            "CUDA is available. Using GPU.\n"
          ]
        }
      ]
    },
    {
      "cell_type": "code",
      "source": [
        "!ls /content/"
      ],
      "metadata": {
        "colab": {
          "base_uri": "https://localhost:8080/"
        },
        "id": "g2bvRnyJod4V",
        "outputId": "8411651e-ff1c-4ec3-e7d4-2e5d2a559957"
      },
      "execution_count": null,
      "outputs": [
        {
          "output_type": "stream",
          "name": "stdout",
          "text": [
            "build  decord  drive  ImageBind  sample_data\n"
          ]
        }
      ]
    },
    {
      "cell_type": "code",
      "source": [
        "%cd /content/ImageBind/"
      ],
      "metadata": {
        "colab": {
          "base_uri": "https://localhost:8080/"
        },
        "id": "SYE6qz3loD9u",
        "outputId": "581e0e0a-6ec2-4057-d467-0aa7d5153f9d"
      },
      "execution_count": null,
      "outputs": [
        {
          "output_type": "stream",
          "name": "stdout",
          "text": [
            "/content/ImageBind\n"
          ]
        }
      ]
    },
    {
      "cell_type": "code",
      "execution_count": null,
      "metadata": {
        "id": "xg67nsnjsfox"
      },
      "outputs": [],
      "source": [
        "from imagebind import data\n",
        "import torch\n",
        "from imagebind.models import imagebind_model\n",
        "from imagebind.models.imagebind_model import ModalityType\n",
        "# import torch_xla\n",
        "# import torch_xla.core.xla_model as xm\n",
        "\n",
        "# text_list=[\"A dog.\", \"A car\", \"A bird\"]\n",
        "# image_paths=[\".assets/dog_image.jpg\", \".assets/car_image.jpg\", \".assets/bird_image.jpg\"]\n",
        "# audio_paths=[\".assets/dog_audio.wav\", \".assets/car_audio.wav\", \".assets/bird_audio.wav\"]\n",
        "\n",
        "# image_paths=[\".assets/dog_image.jpg\", \".assets/car_image.jpg\", \".assets/bird_image.jpg\"]\n",
        "\n",
        "\n",
        "# device = xm.xla_device()\n",
        "device = torch.device(\"cuda\" if torch.cuda.is_available() else \"cpu\")\n",
        "\n",
        "# Instantiate model\n",
        "model = imagebind_model.imagebind_huge(pretrained=True)\n",
        "model.eval()\n",
        "model.to(device)\n",
        "\n",
        "# Load data\n",
        "# inputs = {\n",
        "#     ModalityType.TEXT: data.load_and_transform_text(text_list, device),\n",
        "#     ModalityType.VISION: data.load_and_transform_vision_data(image_paths, device),\n",
        "\n",
        "#     ModalityType.AUDIO: data.load_and_transform_audio_data(audio_paths, device),\n",
        "# }\n",
        "\n",
        "inputs_vid = {\n",
        "    ModalityType.VISION: data.load_and_transform_video_data(video_path, device)\n",
        "}\n",
        "\n",
        "inputs_img = {\n",
        "    ModalityType.VISION: data.load_and_transform_vision_data(image_path, device)\n",
        "}\n",
        "\n",
        "with torch.no_grad():\n",
        "    emb_img = model(inputs_img)\n",
        "    emb_vid = model(inputs_vid)\n",
        "\n",
        "# print(\n",
        "#     \"Vision x Text: \",\n",
        "#     torch.softmax(embeddings[ModalityType.VISION] @ embeddings[ModalityType.TEXT].T, dim=-1),\n",
        "# )\n",
        "# print(\n",
        "#     \"Audio x Text: \",\n",
        "#     torch.softmax(embeddings[ModalityType.AUDIO] @ embeddings[ModalityType.TEXT].T, dim=-1),\n",
        "# )\n",
        "# print(\n",
        "#     \"Vision x Audio: \",\n",
        "#     torch.softmax(embeddings[ModalityType.VISION] @ embeddings[ModalityType.AUDIO].T, dim=-1),\n",
        "print(\n",
        "    \"Similarity comparison matrix: \",\n",
        "    torch.softmax(emb_img[ModalityType.VISION] @ emb_vid[ModalityType.VISION].T, dim=-1),\n",
        ")\n"
      ]
    },
    {
      "cell_type": "code",
      "source": [
        "%cd /content/ImageBind"
      ],
      "metadata": {
        "colab": {
          "base_uri": "https://localhost:8080/"
        },
        "id": "b5m6WGxBqamL",
        "outputId": "c67bdf48-c3a8-4889-91f2-efb501d47a77"
      },
      "execution_count": null,
      "outputs": [
        {
          "output_type": "stream",
          "name": "stdout",
          "text": [
            "/content/ImageBind\n"
          ]
        }
      ]
    },
    {
      "cell_type": "code",
      "source": [
        "!mv ../imagebind_index_search.py ./"
      ],
      "metadata": {
        "id": "DMiiYuxBsrQ5"
      },
      "execution_count": null,
      "outputs": []
    },
    {
      "cell_type": "code",
      "source": [
        "!mv ../imagebind_index_searchv2.py ./"
      ],
      "metadata": {
        "id": "m4RNRTHRvwiX"
      },
      "execution_count": null,
      "outputs": []
    },
    {
      "cell_type": "code",
      "source": [
        "!python imagebind_index_searchv2.py index \\\n",
        "  --images ./ads/images/ \\\n",
        "  --videos ./ads/videos/ \\\n",
        "  --out-dir ./out_dataset/ \\\n",
        "  --image-batch 16 \\\n",
        "  --clips-per-video 1 \\\n",
        "  --clip-duration-frames 2 \\\n",
        "  --resume\n"
      ],
      "metadata": {
        "colab": {
          "base_uri": "https://localhost:8080/"
        },
        "id": "B5OTzL7br9Fl",
        "outputId": "c218de6c-28e2-404d-de06-b28c0899610b"
      },
      "execution_count": null,
      "outputs": [
        {
          "output_type": "stream",
          "name": "stdout",
          "text": [
            "Traceback (most recent call last):\n",
            "  File \"/content/ImageBind/imagebind_index_searchv2.py\", line 245, in <module>\n",
            "    for p in tqdm(vid_paths, desc=\"Videos\"):\n",
            "                  ^^^^^^^^^\n",
            "NameError: name 'vid_paths' is not defined\n"
          ]
        }
      ]
    },
    {
      "cell_type": "markdown",
      "source": [
        "## Installing Decord with GPU support"
      ],
      "metadata": {
        "id": "h8QVUQybi9UI"
      }
    },
    {
      "cell_type": "code",
      "source": [
        "# official PPA comes with ffmpeg 2.8, which lacks tons of features, we use ffmpeg 4.0 here\n",
        "!sudo add-apt-repository ppa:jonathonf/ffmpeg-4 # for ubuntu20.04 official PPA is already version 4.2, you may skip this step\n",
        "!sudo apt-get update\n",
        "!sudo apt-get install -y build-essential python3-dev python3-setuptools make cmake\n",
        "!sudo apt-get install -y ffmpeg libavcodec-dev libavfilter-dev libavformat-dev libavutil-dev\n",
        "# note: make sure you have cmake 3.8 or later, you can install from cmake official website if it's too old"
      ],
      "metadata": {
        "id": "dH_vH6GFhPni"
      },
      "execution_count": null,
      "outputs": []
    },
    {
      "cell_type": "code",
      "source": [
        "!sudo apt-get update\n",
        "!sudo apt-get install -y build-essential cmake make pkg-config python3-dev python3-setuptools \\\n",
        "    ffmpeg libavcodec-dev libavformat-dev libavutil-dev libavfilter-dev"
      ],
      "metadata": {
        "colab": {
          "base_uri": "https://localhost:8080/"
        },
        "id": "mbqkc49kl-30",
        "outputId": "defd33aa-8c5e-4187-bba2-3eb692be4512"
      },
      "execution_count": null,
      "outputs": [
        {
          "output_type": "stream",
          "name": "stdout",
          "text": [
            "\r0% [Working]\r            \rHit:1 https://cli.github.com/packages stable InRelease\n",
            "\r0% [Waiting for headers] [Connecting to security.ubuntu.com (91.189.91.82)] [Wa\r                                                                               \rHit:2 https://cloud.r-project.org/bin/linux/ubuntu jammy-cran40/ InRelease\n",
            "\r0% [Waiting for headers] [Connecting to security.ubuntu.com (91.189.91.82)] [Co\r                                                                               \rHit:3 http://archive.ubuntu.com/ubuntu jammy InRelease\n",
            "Hit:4 https://developer.download.nvidia.com/compute/cuda/repos/ubuntu2204/x86_64  InRelease\n",
            "Hit:5 http://security.ubuntu.com/ubuntu jammy-security InRelease\n",
            "Hit:6 http://archive.ubuntu.com/ubuntu jammy-updates InRelease\n",
            "Hit:7 http://archive.ubuntu.com/ubuntu jammy-backports InRelease\n",
            "Hit:8 https://r2u.stat.illinois.edu/ubuntu jammy InRelease\n",
            "Hit:9 https://ppa.launchpadcontent.net/deadsnakes/ppa/ubuntu jammy InRelease\n",
            "Hit:10 https://ppa.launchpadcontent.net/graphics-drivers/ppa/ubuntu jammy InRelease\n",
            "Hit:11 https://ppa.launchpadcontent.net/ubuntugis/ppa/ubuntu jammy InRelease\n",
            "Reading package lists... Done\n",
            "W: Skipping acquire of configured file 'main/source/Sources' as repository 'https://r2u.stat.illinois.edu/ubuntu jammy InRelease' does not seem to provide it (sources.list entry misspelt?)\n",
            "Reading package lists... Done\n",
            "Building dependency tree... Done\n",
            "Reading state information... Done\n",
            "build-essential is already the newest version (12.9ubuntu3).\n",
            "make is already the newest version (4.3-4.1build1).\n",
            "cmake is already the newest version (3.22.1-1ubuntu1.22.04.2).\n",
            "python3-dev is already the newest version (3.10.6-1~22.04.1).\n",
            "ffmpeg is already the newest version (7:4.4.2-0ubuntu0.22.04.1).\n",
            "libavcodec-dev is already the newest version (7:4.4.2-0ubuntu0.22.04.1).\n",
            "libavfilter-dev is already the newest version (7:4.4.2-0ubuntu0.22.04.1).\n",
            "libavformat-dev is already the newest version (7:4.4.2-0ubuntu0.22.04.1).\n",
            "libavutil-dev is already the newest version (7:4.4.2-0ubuntu0.22.04.1).\n",
            "python3-setuptools is already the newest version (68.1.2-2~jammy3).\n",
            "The following packages were automatically installed and are no longer required:\n",
            "  libbz2-dev libpkgconf3 libreadline-dev\n",
            "Use 'sudo apt autoremove' to remove them.\n",
            "The following packages will be REMOVED:\n",
            "  pkgconf r-base-dev\n",
            "The following NEW packages will be installed:\n",
            "  pkg-config\n",
            "0 upgraded, 1 newly installed, 2 to remove and 37 not upgraded.\n",
            "Need to get 48.2 kB of archives.\n",
            "After this operation, 10.2 kB disk space will be freed.\n",
            "Get:1 http://archive.ubuntu.com/ubuntu jammy/main amd64 pkg-config amd64 0.29.2-1ubuntu3 [48.2 kB]\n",
            "Fetched 48.2 kB in 0s (164 kB/s)\n",
            "debconf: unable to initialize frontend: Dialog\n",
            "debconf: (No usable dialog-like program is installed, so the dialog based frontend cannot be used. at /usr/share/perl5/Debconf/FrontEnd/Dialog.pm line 78, <> line 1.)\n",
            "debconf: falling back to frontend: Readline\n",
            "debconf: unable to initialize frontend: Readline\n",
            "debconf: (This frontend requires a controlling tty.)\n",
            "debconf: falling back to frontend: Teletype\n",
            "dpkg-preconfigure: unable to re-open stdin: \n",
            "(Reading database ... 126967 files and directories currently installed.)\n",
            "Removing r-base-dev (4.5.1-1.2204.0) ...\n",
            "dpkg: pkgconf: dependency problems, but removing anyway as you requested:\n",
            " libsndfile1-dev:amd64 depends on pkg-config; however:\n",
            "  Package pkg-config is not installed.\n",
            "  Package pkgconf which provides pkg-config is to be removed.\n",
            " libopencv-dev depends on pkg-config; however:\n",
            "  Package pkg-config is not installed.\n",
            "  Package pkgconf which provides pkg-config is to be removed.\n",
            " libmkl-dev:amd64 depends on pkg-config; however:\n",
            "  Package pkg-config is not installed.\n",
            "  Package pkgconf which provides pkg-config is to be removed.\n",
            " libjack-dev depends on pkg-config; however:\n",
            "  Package pkg-config is not installed.\n",
            "  Package pkgconf which provides pkg-config is to be removed.\n",
            " libgphoto2-dev:amd64 depends on pkg-config; however:\n",
            "  Package pkg-config is not installed.\n",
            "  Package pkgconf which provides pkg-config is to be removed.\n",
            " libglib2.0-dev:amd64 depends on pkg-config; however:\n",
            "  Package pkg-config is not installed.\n",
            "  Package pkgconf which provides pkg-config is to be removed.\n",
            " libfontconfig-dev:amd64 depends on pkg-config; however:\n",
            "  Package pkg-config is not installed.\n",
            "  Package pkgconf which provides pkg-config is to be removed.\n",
            "\n",
            "Removing pkgconf (1.8.0-1) ...\n",
            "Removing 'diversion of /usr/bin/pkg-config to /usr/bin/pkg-config.real by pkgconf'\n",
            "Removing 'diversion of /usr/share/aclocal/pkg.m4 to /usr/share/aclocal/pkg.real.m4 by pkgconf'\n",
            "Removing 'diversion of /usr/share/man/man1/pkg-config.1.gz to /usr/share/man/man1/pkg-config.real.1.gz by pkgconf'\n",
            "Removing 'diversion of /usr/share/pkg-config-crosswrapper to /usr/share/pkg-config-crosswrapper.real by pkgconf'\n",
            "Selecting previously unselected package pkg-config.\n",
            "(Reading database ... 126943 files and directories currently installed.)\n",
            "Preparing to unpack .../pkg-config_0.29.2-1ubuntu3_amd64.deb ...\n",
            "Unpacking pkg-config (0.29.2-1ubuntu3) ...\n",
            "Setting up pkg-config (0.29.2-1ubuntu3) ...\n",
            "Processing triggers for man-db (2.10.2-1) ...\n"
          ]
        }
      ]
    },
    {
      "cell_type": "code",
      "source": [
        "%cd .."
      ],
      "metadata": {
        "colab": {
          "base_uri": "https://localhost:8080/"
        },
        "id": "QH-y5m0qhRzA",
        "outputId": "9123cce5-8982-42b3-bae4-0925387bb7d9"
      },
      "execution_count": null,
      "outputs": [
        {
          "output_type": "stream",
          "name": "stdout",
          "text": [
            "/content\n"
          ]
        }
      ]
    },
    {
      "cell_type": "code",
      "source": [
        "!git clone --recursive https://github.com/dmlc/decord"
      ],
      "metadata": {
        "id": "p4FwhsVyhUuZ"
      },
      "execution_count": null,
      "outputs": []
    },
    {
      "cell_type": "code",
      "source": [
        "%cd decord\n",
        "!mkdir build\n",
        "%cd build"
      ],
      "metadata": {
        "id": "Jq9eUptphbX3"
      },
      "execution_count": null,
      "outputs": []
    },
    {
      "cell_type": "code",
      "source": [
        "!sudo apt-get install -y libnvidia-decode-550"
      ],
      "metadata": {
        "colab": {
          "base_uri": "https://localhost:8080/"
        },
        "id": "d__RJXTlmzvl",
        "outputId": "f1d82c5d-941f-4a5e-c525-8a20eb01f56d"
      },
      "execution_count": null,
      "outputs": [
        {
          "output_type": "stream",
          "name": "stdout",
          "text": [
            "Reading package lists... Done\n",
            "Building dependency tree... Done\n",
            "Reading state information... Done\n",
            "The following packages were automatically installed and are no longer required:\n",
            "  libbz2-dev libpkgconf3 libreadline-dev\n",
            "Use 'sudo apt autoremove' to remove them.\n",
            "The following additional packages will be installed:\n",
            "  libnvidia-compute-550\n",
            "The following NEW packages will be installed:\n",
            "  libnvidia-compute-550 libnvidia-decode-550\n",
            "0 upgraded, 2 newly installed, 0 to remove and 37 not upgraded.\n",
            "Need to get 51.2 MB of archives.\n",
            "After this operation, 236 MB of additional disk space will be used.\n",
            "Get:1 https://developer.download.nvidia.com/compute/cuda/repos/ubuntu2204/x86_64  libnvidia-compute-550 550.163.01-0ubuntu1 [49.5 MB]\n",
            "Get:2 https://developer.download.nvidia.com/compute/cuda/repos/ubuntu2204/x86_64  libnvidia-decode-550 550.163.01-0ubuntu1 [1,787 kB]\n",
            "Fetched 51.2 MB in 2s (25.0 MB/s)\n",
            "debconf: unable to initialize frontend: Dialog\n",
            "debconf: (No usable dialog-like program is installed, so the dialog based frontend cannot be used. at /usr/share/perl5/Debconf/FrontEnd/Dialog.pm line 78, <> line 2.)\n",
            "debconf: falling back to frontend: Readline\n",
            "debconf: unable to initialize frontend: Readline\n",
            "debconf: (This frontend requires a controlling tty.)\n",
            "debconf: falling back to frontend: Teletype\n",
            "dpkg-preconfigure: unable to re-open stdin: \n",
            "Selecting previously unselected package libnvidia-compute-550:amd64.\n",
            "(Reading database ... 126958 files and directories currently installed.)\n",
            "Preparing to unpack .../libnvidia-compute-550_550.163.01-0ubuntu1_amd64.deb ...\n",
            "Unpacking libnvidia-compute-550:amd64 (550.163.01-0ubuntu1) ...\n",
            "Selecting previously unselected package libnvidia-decode-550:amd64.\n",
            "Preparing to unpack .../libnvidia-decode-550_550.163.01-0ubuntu1_amd64.deb ...\n",
            "Unpacking libnvidia-decode-550:amd64 (550.163.01-0ubuntu1) ...\n",
            "Setting up libnvidia-compute-550:amd64 (550.163.01-0ubuntu1) ...\n",
            "Setting up libnvidia-decode-550:amd64 (550.163.01-0ubuntu1) ...\n",
            "Processing triggers for libc-bin (2.35-0ubuntu3.8) ...\n",
            "/sbin/ldconfig.real: /usr/local/lib/libur_loader.so.0 is not a symbolic link\n",
            "\n",
            "/sbin/ldconfig.real: /usr/local/lib/libtbbmalloc.so.2 is not a symbolic link\n",
            "\n",
            "/sbin/ldconfig.real: /usr/local/lib/libtbb.so.12 is not a symbolic link\n",
            "\n",
            "/sbin/ldconfig.real: /usr/local/lib/libtbbbind_2_5.so.3 is not a symbolic link\n",
            "\n",
            "/sbin/ldconfig.real: /usr/local/lib/libtcm_debug.so.1 is not a symbolic link\n",
            "\n",
            "/sbin/ldconfig.real: /usr/local/lib/libur_adapter_opencl.so.0 is not a symbolic link\n",
            "\n",
            "/sbin/ldconfig.real: /usr/local/lib/libur_adapter_level_zero_v2.so.0 is not a symbolic link\n",
            "\n",
            "/sbin/ldconfig.real: /usr/local/lib/libhwloc.so.15 is not a symbolic link\n",
            "\n",
            "/sbin/ldconfig.real: /usr/local/lib/libtcm.so.1 is not a symbolic link\n",
            "\n",
            "/sbin/ldconfig.real: /usr/local/lib/libtbbbind.so.3 is not a symbolic link\n",
            "\n",
            "/sbin/ldconfig.real: /usr/local/lib/libtbbbind_2_0.so.3 is not a symbolic link\n",
            "\n",
            "/sbin/ldconfig.real: /usr/local/lib/libtbbmalloc_proxy.so.2 is not a symbolic link\n",
            "\n",
            "/sbin/ldconfig.real: /usr/local/lib/libumf.so.0 is not a symbolic link\n",
            "\n",
            "/sbin/ldconfig.real: /usr/local/lib/libur_adapter_level_zero.so.0 is not a symbolic link\n",
            "\n"
          ]
        }
      ]
    },
    {
      "cell_type": "code",
      "source": [
        "!cmake .. -DUSE_CUDA=ON -DCMAKE_BUILD_TYPE=Release\n",
        "!make"
      ],
      "metadata": {
        "colab": {
          "base_uri": "https://localhost:8080/"
        },
        "id": "5uJv4HfnmRnd",
        "outputId": "7b8d5b71-b3ff-46cb-b67b-c4d1e4d52359"
      },
      "execution_count": null,
      "outputs": [
        {
          "output_type": "stream",
          "name": "stdout",
          "text": [
            "\u001b[0mCMake Deprecation Warning at CMakeLists.txt:1 (cmake_minimum_required):\n",
            "  Compatibility with CMake < 3.10 will be removed from a future version of\n",
            "  CMake.\n",
            "\n",
            "  Update the VERSION argument <min> value.  Or, use the <min>...<max> syntax\n",
            "  to tell CMake that the project requires at least <min> but has been updated\n",
            "  to work with policies introduced by <max> or earlier.\n",
            "\n",
            "\u001b[0m\n",
            "-- Checking for module 'libavdevice'\n",
            "--   No package 'libavdevice' found\n",
            "-- Unable to find libavdevice, device input API will not work!\n",
            "-- Found FFMPEG or Libav: /usr/lib/x86_64-linux-gnu/libavformat.so;/usr/lib/x86_64-linux-gnu/libavfilter.so;/usr/lib/x86_64-linux-gnu/libavcodec.so;/usr/lib/x86_64-linux-gnu/libavutil.so;/usr/lib/x86_64-linux-gnu/libswresample.so, /usr/include/x86_64-linux-gnu\n",
            "\u001b[0mFFMPEG_INCLUDE_DIR = /usr/include/x86_64-linux-gnu \u001b[0m\n",
            "\u001b[0mFFMPEG_LIBRARIES = /usr/lib/x86_64-linux-gnu/libavformat.so;/usr/lib/x86_64-linux-gnu/libavfilter.so;/usr/lib/x86_64-linux-gnu/libavcodec.so;/usr/lib/x86_64-linux-gnu/libavutil.so;/usr/lib/x86_64-linux-gnu/libswresample.so \u001b[0m\n",
            "\u001b[33mCMake Warning (dev) at cmake/util/FindCUDA.cmake:43 (find_package):\n",
            "  Policy CMP0146 is not set: The FindCUDA module is removed.  Run \"cmake\n",
            "  --help-policy CMP0146\" for policy details.  Use the cmake_policy command to\n",
            "  set the policy and suppress this warning.\n",
            "\n",
            "Call Stack (most recent call first):\n",
            "  cmake/modules/CUDA.cmake:19 (find_cuda)\n",
            "  CMakeLists.txt:92 (include)\n",
            "This warning is for project developers.  Use -Wno-dev to suppress it.\n",
            "\u001b[0m\n",
            "-- Found CUDA_TOOLKIT_ROOT_DIR=/usr/local/cuda\n",
            "-- Found CUDA_CUDA_LIBRARY=/usr/local/cuda/targets/x86_64-linux/lib/stubs/libcuda.so\n",
            "-- Found CUDA_CUDART_LIBRARY=/usr/local/cuda/lib64/libcudart.so\n",
            "-- Found CUDA_NVRTC_LIBRARY=/usr/local/cuda/lib64/libnvrtc.so\n",
            "-- Found CUDA_CUDNN_LIBRARY=/usr/lib/x86_64-linux-gnu/libcudnn.so\n",
            "-- Found CUDA_CUBLAS_LIBRARY=/usr/local/cuda/lib64/libcublas.so\n",
            "-- Found CUDA_NVIDIA_ML_LIBRARY=/usr/local/cuda/targets/x86_64-linux/lib/stubs/libnvidia-ml.so\n",
            "-- Found CUDA_NVCUVID_LIBRARY=/usr/lib/x86_64-linux-gnu/libnvcuvid.so\n",
            "-- Build with CUDA support\n",
            "-- Configuring done (0.1s)\n",
            "\u001b[33mCMake Warning (dev) in CMakeLists.txt:\n",
            "  Policy CMP0104 is not set: CMAKE_CUDA_ARCHITECTURES now detected for NVCC,\n",
            "  empty CUDA_ARCHITECTURES not allowed.  Run \"cmake --help-policy CMP0104\"\n",
            "  for policy details.  Use the cmake_policy command to set the policy and\n",
            "  suppress this warning.\n",
            "\n",
            "  CUDA_ARCHITECTURES is empty for target \"decord\".\n",
            "This warning is for project developers.  Use -Wno-dev to suppress it.\n",
            "\u001b[0m\n",
            "-- Generating done (0.0s)\n",
            "-- Build files have been written to: /content/decord/build\n",
            "[  2%] \u001b[32mBuilding CXX object CMakeFiles/decord.dir/src/audio/audio_interface.cc.o\u001b[0m\n",
            "[  5%] \u001b[32mBuilding CXX object CMakeFiles/decord.dir/src/audio/audio_reader.cc.o\u001b[0m\n",
            "[  8%] \u001b[32mBuilding CXX object CMakeFiles/decord.dir/src/runtime/c_runtime_api.cc.o\u001b[0m\n",
            "[ 10%] \u001b[32mBuilding CXX object CMakeFiles/decord.dir/src/runtime/cpu_device_api.cc.o\u001b[0m\n",
            "[ 13%] \u001b[32mBuilding CXX object CMakeFiles/decord.dir/src/runtime/dso_module.cc.o\u001b[0m\n",
            "[ 16%] \u001b[32mBuilding CXX object CMakeFiles/decord.dir/src/runtime/file_util.cc.o\u001b[0m\n",
            "[ 18%] \u001b[32mBuilding CXX object CMakeFiles/decord.dir/src/runtime/module.cc.o\u001b[0m\n",
            "[ 21%] \u001b[32mBuilding CXX object CMakeFiles/decord.dir/src/runtime/module_util.cc.o\u001b[0m\n",
            "[ 24%] \u001b[32mBuilding CXX object CMakeFiles/decord.dir/src/runtime/ndarray.cc.o\u001b[0m\n",
            "[ 27%] \u001b[32mBuilding CXX object CMakeFiles/decord.dir/src/runtime/registry.cc.o\u001b[0m\n",
            "[ 29%] \u001b[32mBuilding CXX object CMakeFiles/decord.dir/src/runtime/str_util.cc.o\u001b[0m\n",
            "[ 32%] \u001b[32mBuilding CXX object CMakeFiles/decord.dir/src/runtime/system_lib_module.cc.o\u001b[0m\n",
            "[ 35%] \u001b[32mBuilding CXX object CMakeFiles/decord.dir/src/runtime/thread_pool.cc.o\u001b[0m\n",
            "[ 37%] \u001b[32mBuilding CXX object CMakeFiles/decord.dir/src/runtime/threading_backend.cc.o\u001b[0m\n",
            "[ 40%] \u001b[32mBuilding CXX object CMakeFiles/decord.dir/src/runtime/workspace_pool.cc.o\u001b[0m\n",
            "[ 43%] \u001b[32mBuilding CXX object CMakeFiles/decord.dir/src/sampler/random_file_order_sampler.cc.o\u001b[0m\n",
            "[ 45%] \u001b[32mBuilding CXX object CMakeFiles/decord.dir/src/sampler/random_sampler.cc.o\u001b[0m\n",
            "[ 48%] \u001b[32mBuilding CXX object CMakeFiles/decord.dir/src/sampler/sequential_sampler.cc.o\u001b[0m\n",
            "[ 51%] \u001b[32mBuilding CXX object CMakeFiles/decord.dir/src/sampler/smart_random_sampler.cc.o\u001b[0m\n",
            "[ 54%] \u001b[32mBuilding CXX object CMakeFiles/decord.dir/src/video/logging.cc.o\u001b[0m\n",
            "[ 56%] \u001b[32mBuilding CXX object CMakeFiles/decord.dir/src/video/storage_pool.cc.o\u001b[0m\n",
            "[ 59%] \u001b[32mBuilding CXX object CMakeFiles/decord.dir/src/video/video_interface.cc.o\u001b[0m\n",
            "[ 62%] \u001b[32mBuilding CXX object CMakeFiles/decord.dir/src/video/video_loader.cc.o\u001b[0m\n",
            "[ 64%] \u001b[32mBuilding CXX object CMakeFiles/decord.dir/src/video/video_reader.cc.o\u001b[0m\n",
            "[ 67%] \u001b[32mBuilding CXX object CMakeFiles/decord.dir/src/video/ffmpeg/filter_graph.cc.o\u001b[0m\n",
            "[ 70%] \u001b[32mBuilding CXX object CMakeFiles/decord.dir/src/video/ffmpeg/threaded_decoder.cc.o\u001b[0m\n",
            "\u001b[01m\u001b[K/content/decord/src/video/ffmpeg/threaded_decoder.cc:\u001b[m\u001b[K In member function ‘\u001b[01m\u001b[Kvoid decord::ffmpeg::FFMPEGThreadedDecoder::WorkerThread()\u001b[m\u001b[K’:\n",
            "\u001b[01m\u001b[K/content/decord/src/video/ffmpeg/threaded_decoder.cc:176:26:\u001b[m\u001b[K \u001b[01;35m\u001b[Kwarning: \u001b[m\u001b[Kcatching polymorphic type ‘\u001b[01m\u001b[Kstruct dmlc::Error\u001b[m\u001b[K’ by value [\u001b[01;35m\u001b[K\u001b]8;;https://gcc.gnu.org/onlinedocs/gcc/Warning-Options.html#index-Wcatch-value=\u0007-Wcatch-value=\u001b]8;;\u0007\u001b[m\u001b[K]\n",
            "  176 |     } catch (dmlc::Error \u001b[01;35m\u001b[Kerror\u001b[m\u001b[K) {\n",
            "      |                          \u001b[01;35m\u001b[K^~~~~\u001b[m\u001b[K\n",
            "[ 72%] \u001b[32mBuilding CXX object CMakeFiles/decord.dir/src/video/nvcodec/cuda_context.cc.o\u001b[0m\n",
            "[ 75%] \u001b[32mBuilding CXX object CMakeFiles/decord.dir/src/video/nvcodec/cuda_decoder_impl.cc.o\u001b[0m\n",
            "[ 78%] \u001b[32mBuilding CXX object CMakeFiles/decord.dir/src/video/nvcodec/cuda_mapped_frame.cc.o\u001b[0m\n",
            "[ 81%] \u001b[32mBuilding CXX object CMakeFiles/decord.dir/src/video/nvcodec/cuda_parser.cc.o\u001b[0m\n",
            "[ 83%] \u001b[32mBuilding CXX object CMakeFiles/decord.dir/src/video/nvcodec/cuda_stream.cc.o\u001b[0m\n",
            "[ 86%] \u001b[32mBuilding CXX object CMakeFiles/decord.dir/src/video/nvcodec/cuda_texture.cc.o\u001b[0m\n",
            "[ 89%] \u001b[32mBuilding CXX object CMakeFiles/decord.dir/src/video/nvcodec/cuda_threaded_decoder.cc.o\u001b[0m\n",
            "\u001b[01m\u001b[K/content/decord/src/video/nvcodec/cuda_threaded_decoder.cc:\u001b[m\u001b[K In member function ‘\u001b[01m\u001b[Kvoid decord::cuda::CUThreadedDecoder::LaunchThread()\u001b[m\u001b[K’:\n",
            "\u001b[01m\u001b[K/content/decord/src/video/nvcodec/cuda_threaded_decoder.cc:304:24:\u001b[m\u001b[K \u001b[01;35m\u001b[Kwarning: \u001b[m\u001b[Kcatching polymorphic type ‘\u001b[01m\u001b[Kstruct dmlc::Error\u001b[m\u001b[K’ by value [\u001b[01;35m\u001b[K\u001b]8;;https://gcc.gnu.org/onlinedocs/gcc/Warning-Options.html#index-Wcatch-value=\u0007-Wcatch-value=\u001b]8;;\u0007\u001b[m\u001b[K]\n",
            "  304 |   } catch (dmlc::Error \u001b[01;35m\u001b[Kerror\u001b[m\u001b[K) {\n",
            "      |                        \u001b[01;35m\u001b[K^~~~~\u001b[m\u001b[K\n",
            "[ 91%] \u001b[32mBuilding CXX object CMakeFiles/decord.dir/src/runtime/cuda/cuda_device_api.cc.o\u001b[0m\n",
            "[ 94%] \u001b[32mBuilding CXX object CMakeFiles/decord.dir/src/runtime/cuda/cuda_module.cc.o\u001b[0m\n",
            "[ 97%] \u001b[32mBuilding CUDA object CMakeFiles/decord.dir/src/improc/improc.cu.o\u001b[0m\n",
            "[100%] \u001b[32m\u001b[1mLinking CXX shared library libdecord.so\u001b[0m\n",
            "[100%] Built target decord\n"
          ]
        }
      ]
    },
    {
      "cell_type": "code",
      "source": [
        "!pwd"
      ],
      "metadata": {
        "colab": {
          "base_uri": "https://localhost:8080/"
        },
        "id": "Lj53EpnEnTQX",
        "outputId": "b87b59a8-bf9e-4ba9-a1b1-baaa3bb8b999"
      },
      "execution_count": null,
      "outputs": [
        {
          "output_type": "stream",
          "name": "stdout",
          "text": [
            "/content/decord/build/build\n"
          ]
        }
      ]
    },
    {
      "cell_type": "code",
      "source": [
        "%cd ../python\n",
        "# option 1: add python path to $PYTHONPATH, you will need to install numpy separately\n",
        "# !pwd=$PWD\n",
        "# !echo \"PYTHONPATH=$PYTHONPATH:$pwd\" >> ~/.bashrc\n",
        "# !source ~/.bashrc\n",
        "# option 2: install with setuptools\n",
        "!python3 setup.py install --user"
      ],
      "metadata": {
        "colab": {
          "base_uri": "https://localhost:8080/"
        },
        "id": "jAtqSY7OhjEL",
        "outputId": "22080384-361e-4a48-84dc-f4b9fa2ff14c"
      },
      "execution_count": null,
      "outputs": [
        {
          "output_type": "stream",
          "name": "stdout",
          "text": [
            "[Errno 2] No such file or directory: '../python'\n",
            "/content/decord/build/build\n",
            "python3: can't open file '/content/decord/build/build/setup.py': [Errno 2] No such file or directory\n"
          ]
        }
      ]
    },
    {
      "cell_type": "markdown",
      "source": [
        " Sample Expected output:\n",
        " Vision x Text:\n",
        " tensor([[9.9761e-01, 2.3694e-03, 1.8612e-05],\n",
        "         [3.3836e-05, 9.9994e-01, 2.4118e-05],\n",
        "         [4.7997e-05, 1.3496e-02, 9.8646e-01]])\n",
        "\n",
        " Audio x Text:\n",
        " tensor([[1., 0., 0.],\n",
        "         [0., 1., 0.],\n",
        "         [0., 0., 1.]])\n",
        "\n",
        " Vision x Audio:\n",
        " tensor([[0.8070, 0.1088, 0.0842],\n",
        "         [0.1036, 0.7884, 0.1079],\n",
        "         [0.0018, 0.0022, 0.9960]])"
      ],
      "metadata": {
        "id": "zp_iLboJf3By"
      }
    },
    {
      "cell_type": "code",
      "execution_count": null,
      "metadata": {
        "id": "4R7y-jG4GEYC"
      },
      "outputs": [],
      "source": []
    },
    {
      "cell_type": "code",
      "execution_count": null,
      "metadata": {
        "id": "8c1534ed"
      },
      "outputs": [],
      "source": [
        "import os\n",
        "from PIL import Image\n",
        "from IPython.display import display\n",
        "\n",
        "def display_images_in_directory(directory):\n",
        "  \"\"\"Displays all image files in a given directory.\"\"\"\n",
        "  for filename in os.listdir(directory):\n",
        "    if filename.lower().endswith(('.png', '.jpg', '.jpeg', '.gif', '.bmp')):\n",
        "      try:\n",
        "        img_path = os.path.join(directory, filename)\n",
        "        img = Image.open(img_path)\n",
        "        print(f\"Displaying: {filename}\")\n",
        "        display(img)\n",
        "      except Exception as e:\n",
        "        print(f\"Could not display {filename}: {e}\")\n",
        "\n",
        "# Replace 'your_directory_path' with the actual path to your directory\n",
        "display_images_in_directory('./.assets') # Replace '.' with the path to your directory"
      ]
    },
    {
      "cell_type": "code",
      "execution_count": null,
      "metadata": {
        "id": "_lXgbxID4M2-"
      },
      "outputs": [],
      "source": [
        "!ls"
      ]
    },
    {
      "cell_type": "code",
      "execution_count": null,
      "metadata": {
        "id": "Y-yq2x3YSmS_"
      },
      "outputs": [],
      "source": []
    }
  ],
  "metadata": {
    "accelerator": "GPU",
    "colab": {
      "gpuType": "T4",
      "provenance": []
    },
    "kernelspec": {
      "display_name": "Python 3",
      "name": "python3"
    },
    "language_info": {
      "name": "python"
    }
  },
  "nbformat": 4,
  "nbformat_minor": 0
}